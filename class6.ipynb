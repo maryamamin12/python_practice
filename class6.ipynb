{
  "nbformat": 4,
  "nbformat_minor": 0,
  "metadata": {
    "colab": {
      "provenance": [],
      "authorship_tag": "ABX9TyOuNX0oglQ4PRs5jo61/NHv",
      "include_colab_link": true
    },
    "kernelspec": {
      "name": "python3",
      "display_name": "Python 3"
    },
    "language_info": {
      "name": "python"
    }
  },
  "cells": [
    {
      "cell_type": "markdown",
      "metadata": {
        "id": "view-in-github",
        "colab_type": "text"
      },
      "source": [
        "<a href=\"https://colab.research.google.com/github/maryamamin12/python_practice/blob/main/class6.ipynb\" target=\"_parent\"><img src=\"https://colab.research.google.com/assets/colab-badge.svg\" alt=\"Open In Colab\"/></a>"
      ]
    },
    {
      "cell_type": "markdown",
      "source": [
        "Why we need error handling"
      ],
      "metadata": {
        "id": "LGUKPN0JCM1M"
      }
    },
    {
      "cell_type": "code",
      "execution_count": 3,
      "metadata": {
        "id": "TYY0EGzws-ZY",
        "colab": {
          "base_uri": "https://localhost:8080/"
        },
        "outputId": "e71e7694-1cc2-4663-e383-8ee2717a03c1"
      },
      "outputs": [
        {
          "output_type": "stream",
          "name": "stdout",
          "text": [
            "Enter a numbern\n",
            "only number are accepted\n"
          ]
        }
      ],
      "source": [
        "#Error Handling example\n",
        "\n",
        "try:\n",
        "  num = int(input(\"Enter a number\"))\n",
        "  result = num / 10\n",
        "  print(f\"number is:  {result}\")\n",
        "\n",
        "except ZeroDivisionError:\n",
        "  print(\"cannot divide by zero\")\n",
        "\n",
        "except ValueError:\n",
        "  print(\"only number are accepted\")\n"
      ]
    }
  ]
}