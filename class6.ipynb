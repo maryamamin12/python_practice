{
  "nbformat": 4,
  "nbformat_minor": 0,
  "metadata": {
    "colab": {
      "provenance": [],
      "authorship_tag": "ABX9TyO0ePR0DXwsT09JLdaBd+iw",
      "include_colab_link": true
    },
    "kernelspec": {
      "name": "python3",
      "display_name": "Python 3"
    },
    "language_info": {
      "name": "python"
    }
  },
  "cells": [
    {
      "cell_type": "markdown",
      "metadata": {
        "id": "view-in-github",
        "colab_type": "text"
      },
      "source": [
        "<a href=\"https://colab.research.google.com/github/maryamamin12/python_practice/blob/main/class6.ipynb\" target=\"_parent\"><img src=\"https://colab.research.google.com/assets/colab-badge.svg\" alt=\"Open In Colab\"/></a>"
      ]
    },
    {
      "cell_type": "markdown",
      "source": [
        "Why we need error handling"
      ],
      "metadata": {
        "id": "LGUKPN0JCM1M"
      }
    },
    {
      "cell_type": "code",
      "execution_count": null,
      "metadata": {
        "id": "TYY0EGzws-ZY",
        "colab": {
          "base_uri": "https://localhost:8080/"
        },
        "outputId": "c6adcc73-5fe9-407a-e4be-b7e1c50e73ee"
      },
      "outputs": [
        {
          "output_type": "stream",
          "name": "stdout",
          "text": [
            "Enter a number0\n",
            "number is:  0.0\n"
          ]
        }
      ],
      "source": [
        "#Error Handling example\n",
        "\n",
        "try:\n",
        "  num = int(input(\"Enter a number\"))\n",
        "  result = num / 10\n",
        "  print(f\"number is:  {result}\")\n",
        "\n",
        "except ZeroDivisionError:\n",
        "  print(\"cannot divide by zero\")\n",
        "\n",
        "except ValueError:\n",
        "  print(\"only number are accepted\")\n"
      ]
    },
    {
      "cell_type": "code",
      "source": [
        "try:\n",
        "  print(10 / 0)\n",
        "except ZeroDivisionError:\n",
        "  print(\"cannot divide by zero\")"
      ],
      "metadata": {
        "colab": {
          "base_uri": "https://localhost:8080/"
        },
        "id": "BIQ9xFHHHnHW",
        "outputId": "404329a7-08bb-4b59-fc62-77015979cb2b"
      },
      "execution_count": null,
      "outputs": [
        {
          "output_type": "stream",
          "name": "stdout",
          "text": [
            "cannot divide by zero\n"
          ]
        }
      ]
    },
    {
      "cell_type": "markdown",
      "source": [
        "without error_handling code"
      ],
      "metadata": {
        "id": "C1TVctYMJxH6"
      }
    },
    {
      "cell_type": "code",
      "source": [
        "#without error handling code\n",
        "num = int(input(\"Enter a number \"))\n",
        "print(\"number..\", num) #agar hello add karty hy to error a jay ga or program crash ho jay ga"
      ],
      "metadata": {
        "colab": {
          "base_uri": "https://localhost:8080/"
        },
        "id": "epqb4Ol2IjZJ",
        "outputId": "4b266680-b0e5-49fd-a43b-7afd7f676d4a"
      },
      "execution_count": null,
      "outputs": [
        {
          "output_type": "stream",
          "name": "stdout",
          "text": [
            "Enter a number 0\n",
            "number.. 0\n"
          ]
        }
      ]
    },
    {
      "cell_type": "markdown",
      "source": [
        "with error_handling code"
      ],
      "metadata": {
        "id": "O7adb-FOJ4t4"
      }
    },
    {
      "cell_type": "code",
      "source": [
        "try:\n",
        " num = int(input(\"Enter a number \"))\n",
        " a = num / 10\n",
        " print(\"number:\", num)\n",
        " print(\"Result:\", a)\n",
        "except ZeroDivisionError:\n",
        "  print(\"you cannot divided by zero\")\n",
        "except ValueError:\n",
        "  print(\"wrong input please enter a number\")"
      ],
      "metadata": {
        "colab": {
          "base_uri": "https://localhost:8080/"
        },
        "id": "jscrmP5NJtr3",
        "outputId": "9dd49b35-0435-4f2f-fe3d-1d91acabc377"
      },
      "execution_count": null,
      "outputs": [
        {
          "output_type": "stream",
          "name": "stdout",
          "text": [
            "Enter a number 89\n",
            "number: 89\n",
            "Result: 8.9\n"
          ]
        }
      ]
    },
    {
      "cell_type": "markdown",
      "source": [
        "# Modules in python"
      ],
      "metadata": {
        "id": "HGc-4ElrBPsk"
      }
    },
    {
      "cell_type": "code",
      "source": [
        "print(say hello())"
      ],
      "metadata": {
        "id": "bCPWMcKOBXZQ",
        "colab": {
          "base_uri": "https://localhost:8080/"
        },
        "outputId": "47bf52cc-c68a-49f7-f371-7bfd6ab08402"
      },
      "execution_count": 3,
      "outputs": [
        {
          "output_type": "stream",
          "name": "stdout",
          "text": [
            "hello\n"
          ]
        }
      ]
    }
  ]
}