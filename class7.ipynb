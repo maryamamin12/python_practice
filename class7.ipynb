{
  "nbformat": 4,
  "nbformat_minor": 0,
  "metadata": {
    "colab": {
      "provenance": [],
      "authorship_tag": "ABX9TyO1FSfU4ZUhw/dSUYCLviOa",
      "include_colab_link": true
    },
    "kernelspec": {
      "name": "python3",
      "display_name": "Python 3"
    },
    "language_info": {
      "name": "python"
    }
  },
  "cells": [
    {
      "cell_type": "markdown",
      "metadata": {
        "id": "view-in-github",
        "colab_type": "text"
      },
      "source": [
        "<a href=\"https://colab.research.google.com/github/maryamamin12/python_practice/blob/main/class7.ipynb\" target=\"_parent\"><img src=\"https://colab.research.google.com/assets/colab-badge.svg\" alt=\"Open In Colab\"/></a>"
      ]
    },
    {
      "cell_type": "markdown",
      "source": [
        "# File_Handling"
      ],
      "metadata": {
        "id": "4PwDwKZ_0XB2"
      }
    },
    {
      "cell_type": "code",
      "execution_count": 46,
      "metadata": {
        "id": "zFGgDe8xXsGq",
        "colab": {
          "base_uri": "https://localhost:8080/"
        },
        "outputId": "4c2444f8-db3f-4c41-e3a6-e5be08854737"
      },
      "outputs": [
        {
          "output_type": "stream",
          "name": "stdout",
          "text": [
            "one line My first file handling program\n"
          ]
        }
      ],
      "source": [
        "file = open(\"maryam_txt\", \"w+\")\n",
        "\n",
        "file.write(\"My first file handling program\")\n",
        "file.seek(0)\n",
        "line = file.read()\n",
        "print(\"one line\", line)\n",
        "file.close()"
      ]
    },
    {
      "cell_type": "code",
      "source": [
        "file = open(\"maryam_txt\", \"w+\")\n",
        "\n",
        "file.write(\"Hello Everyone hello everyone this is me\")\n",
        "file.seek(0)\n",
        "line = file.read()\n",
        "print(\"line one\", line)\n",
        "file.close()"
      ],
      "metadata": {
        "colab": {
          "base_uri": "https://localhost:8080/"
        },
        "id": "bPuZ9BJyeNVb",
        "outputId": "a1e1f804-8ee5-458a-dfe0-cbcf633534d2"
      },
      "execution_count": 41,
      "outputs": [
        {
          "output_type": "stream",
          "name": "stdout",
          "text": [
            "line one Hello Everyone hello everyone this is me\n"
          ]
        }
      ]
    },
    {
      "cell_type": "code",
      "source": [
        "with open(\"maryam_txt\", \"a+\") as newfile:\n",
        "  newfile.write(\"\\nHello World\")\n",
        "  newfile.seek(0)\n",
        "  print(newfile.read())"
      ],
      "metadata": {
        "colab": {
          "base_uri": "https://localhost:8080/"
        },
        "id": "d90GMfaOjF9A",
        "outputId": "7a1a7af5-fc76-4d04-ddb9-bf2c2fe32240"
      },
      "execution_count": 37,
      "outputs": [
        {
          "output_type": "stream",
          "name": "stdout",
          "text": [
            "Hello WorldHello World\n",
            "Hello World\n",
            "Hello World\n"
          ]
        }
      ]
    }
  ]
}