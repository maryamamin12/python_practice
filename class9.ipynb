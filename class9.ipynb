{
  "nbformat": 4,
  "nbformat_minor": 0,
  "metadata": {
    "colab": {
      "provenance": [],
      "authorship_tag": "ABX9TyPUcou4KsJahXNdp85rLP7z",
      "include_colab_link": true
    },
    "kernelspec": {
      "name": "python3",
      "display_name": "Python 3"
    },
    "language_info": {
      "name": "python"
    }
  },
  "cells": [
    {
      "cell_type": "markdown",
      "metadata": {
        "id": "view-in-github",
        "colab_type": "text"
      },
      "source": [
        "<a href=\"https://colab.research.google.com/github/maryamamin12/python_practice/blob/main/class9.ipynb\" target=\"_parent\"><img src=\"https://colab.research.google.com/assets/colab-badge.svg\" alt=\"Open In Colab\"/></a>"
      ]
    },
    {
      "cell_type": "code",
      "execution_count": null,
      "metadata": {
        "id": "1vXTmA5N4R1E",
        "collapsed": true
      },
      "outputs": [],
      "source": [
        "!pip install streamlit"
      ]
    },
    {
      "cell_type": "code",
      "source": [
        "!pip install pyngrok"
      ],
      "metadata": {
        "colab": {
          "base_uri": "https://localhost:8080/"
        },
        "collapsed": true,
        "id": "DqeMzUzpYbdu",
        "outputId": "c830ee22-4bca-4979-ca90-da78de80bd69"
      },
      "execution_count": 9,
      "outputs": [
        {
          "output_type": "stream",
          "name": "stdout",
          "text": [
            "Requirement already satisfied: pyngrok in /usr/local/lib/python3.12/dist-packages (7.4.0)\n",
            "Requirement already satisfied: PyYAML>=5.1 in /usr/local/lib/python3.12/dist-packages (from pyngrok) (6.0.3)\n"
          ]
        }
      ]
    },
    {
      "cell_type": "code",
      "source": [
        "# 1) Now creat an app.py file in files tab.\n",
        "# 2) Write yor streamlit app in app.py file.\n",
        "# 3) Now creat an authtoken code from the folloeing link.\n",
        "# https://dashboard.ngrok.com/get-started/your-authtoken\n",
        "\n",
        "# 4) Now save that authtoken code in colab secrets.\n"
      ],
      "metadata": {
        "id": "DIYdu9AccCtE"
      },
      "execution_count": 10,
      "outputs": []
    },
    {
      "cell_type": "code",
      "source": [
        "# 5) Now import your keys into your colab.\n",
        "\n",
        "from google.colab import userdata\n",
        "pyngrok_token = userdata.get('pyngrok_authtoken')"
      ],
      "metadata": {
        "id": "P88GhZToi_0q"
      },
      "execution_count": 11,
      "outputs": []
    },
    {
      "cell_type": "code",
      "source": [
        "# 6) Now initlate your ngrok with your token.\n",
        "\n",
        "!ngrok authtoken  pyngrok_authtoken"
      ],
      "metadata": {
        "colab": {
          "base_uri": "https://localhost:8080/"
        },
        "id": "Hdxq09W9lfEh",
        "outputId": "b643a688-8424-495c-e70c-106ca2df764a"
      },
      "execution_count": 17,
      "outputs": [
        {
          "output_type": "stream",
          "name": "stdout",
          "text": [
            "Authtoken saved to configuration file: /root/.config/ngrok/ngrok.yml\n"
          ]
        }
      ]
    },
    {
      "cell_type": "code",
      "source": [
        "# 7) Now let's run our app.py\n",
        "\n",
        "from pyngrok import ngrok\n",
        "\n",
        "# Run streamlit in Background\n",
        "!streamlit run app.py &>/dev/null &\n",
        "\n",
        "public_url = ngrok.connect(addr = 8501)\n",
        "public_url\n"
      ],
      "metadata": {
        "id": "FpMl6kYbohEM"
      },
      "execution_count": null,
      "outputs": []
    }
  ]
}