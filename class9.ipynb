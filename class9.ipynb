{
  "nbformat": 4,
  "nbformat_minor": 0,
  "metadata": {
    "colab": {
      "provenance": [],
      "authorship_tag": "ABX9TyPqe/8Oy3cAuXI947V3BqlQ",
      "include_colab_link": true
    },
    "kernelspec": {
      "name": "python3",
      "display_name": "Python 3"
    },
    "language_info": {
      "name": "python"
    }
  },
  "cells": [
    {
      "cell_type": "markdown",
      "metadata": {
        "id": "view-in-github",
        "colab_type": "text"
      },
      "source": [
        "<a href=\"https://colab.research.google.com/github/maryamamin12/python_practice/blob/main/class9.ipynb\" target=\"_parent\"><img src=\"https://colab.research.google.com/assets/colab-badge.svg\" alt=\"Open In Colab\"/></a>"
      ]
    },
    {
      "cell_type": "markdown",
      "source": [
        "## Assignment"
      ],
      "metadata": {
        "id": "wuNCWVYzUw8t"
      }
    },
    {
      "cell_type": "code",
      "execution_count": 6,
      "metadata": {
        "id": "VMhg0RanOa3s",
        "colab": {
          "base_uri": "https://localhost:8080/",
          "height": 0
        },
        "outputId": "c6bbb604-b4ea-45b5-e788-614a08152f96"
      },
      "outputs": [
        {
          "output_type": "stream",
          "name": "stdout",
          "text": [
            "55 63 97 19 26 92 60 21 13 94 "
          ]
        }
      ],
      "source": [
        "import random\n",
        "\n",
        "for i in range(10):\n",
        "  print(random.randint(1, 100), end =\" \")"
      ]
    },
    {
      "cell_type": "code",
      "source": [
        "def mars_weight():\n",
        "  user_input = float(input(\"Input your Earth weight: \"))\n",
        "  mars_weight: float = user_input * 0.378\n",
        "  rounded_weight: float = round(mars_weight, 2)\n",
        "  print(f\"your mars weight is {rounded_weight}kg.\")\n",
        "\n",
        "mars_weight()"
      ],
      "metadata": {
        "colab": {
          "base_uri": "https://localhost:8080/"
        },
        "id": "Ll_K6I-MGgn5",
        "outputId": "79bda21c-2e88-47b1-df7d-6ed3697f7e9b"
      },
      "execution_count": 9,
      "outputs": [
        {
          "output_type": "stream",
          "name": "stdout",
          "text": [
            "Input your Earth weight: 3.1415926\n",
            "your mars weight is 1.19kg.\n"
          ]
        }
      ]
    }
  ]
}