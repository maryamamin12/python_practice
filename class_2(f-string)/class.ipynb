Triple single quates
[i for i in dir(str) if "_" not in i]
Jinja style
"""
student name {{name}}
"""
a = 7
b = 8
# {} place holder
#                    0          1          0 1
"pakistan value a = {} and b = {}".format(a,b)
name : str = "Maryam"
fname : str = "Amin"
education : str = "Matric in science"
age : str = 18

card : str = """
PIAIC Student Card
student Name: {1}
Father's Name: {0}
Age: {3}
Education: {2}
""".format(fname, name, education, age)
#           0      1      2          3
print(card)
Recommended below two f-string format
name : str = "Maryam"
fname : str = "Amin"
education : str = "Matric in science"
age : str = 18
# f_string pyton

card : str = f"""
PIAIC Student Card
student Name: {name}
Father's Name: {fname}
Age: {age}
Education: {education}
"""
print(card)
student_code : str = """
print("My name is Maryam")
a:int = 7
b:int = 8
print(a+b)
"""

exec(student_code)
Explore string methods and attributes
[i for i in dir(str) if "_" not in i]
