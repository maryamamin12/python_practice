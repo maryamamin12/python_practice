{
  "nbformat": 4,
  "nbformat_minor": 0,
  "metadata": {
    "colab": {
      "provenance": [],
      "authorship_tag": "ABX9TyMM/4SuvepvyvsJleGfF8pR",
      "include_colab_link": true
    },
    "kernelspec": {
      "name": "python3",
      "display_name": "Python 3"
    },
    "language_info": {
      "name": "python"
    }
  },
  "cells": [
    {
      "cell_type": "markdown",
      "metadata": {
        "id": "view-in-github",
        "colab_type": "text"
      },
      "source": [
        "<a href=\"https://colab.research.google.com/github/maryamamin12/python_practice/blob/main/High_Low_project.ipynb\" target=\"_parent\"><img src=\"https://colab.research.google.com/assets/colab-badge.svg\" alt=\"Open In Colab\"/></a>"
      ]
    },
    {
      "cell_type": "code",
      "execution_count": 3,
      "metadata": {
        "id": "Oaepaga5rHHv",
        "colab": {
          "base_uri": "https://localhost:8080/"
        },
        "outputId": "0cfdacec-05a4-4697-9df7-8391580566a2"
      },
      "outputs": [
        {
          "output_type": "stream",
          "name": "stdout",
          "text": [
            "welcome to the High_Low game!\n",
            "-------------------------------\n",
            "The computer's number is 65\n",
            "your number is 98\n"
          ]
        }
      ],
      "source": [
        "# Milestone 1:\n",
        "\n",
        "import random\n",
        "\n",
        "print(\"welcome to the High_Low game!\")\n",
        "print(\"-------------------------------\")\n",
        "\n",
        "computer_number = random.randint(1, 100)\n",
        "user_number = random.randint(1,100)\n",
        "print(f\"The computer's number is {computer_number}\")\n",
        "print(f\"your number is {user_number}\")\n"
      ]
    },
    {
      "cell_type": "code",
      "source": [
        "# Milestone 2: Get the user choice\n",
        "\n",
        "print(input(\"Do you think your number is higher or lower than the computer's?: \"))\n"
      ],
      "metadata": {
        "colab": {
          "base_uri": "https://localhost:8080/"
        },
        "id": "iIUZ8ekwq8s5",
        "outputId": "66bc59df-6772-411c-d32f-af62c7ff1511"
      },
      "execution_count": 5,
      "outputs": [
        {
          "output_type": "stream",
          "name": "stdout",
          "text": [
            "Do you think your number is higher or lower than the computer's?: higher\n",
            "higher\n"
          ]
        }
      ]
    }
  ]
}