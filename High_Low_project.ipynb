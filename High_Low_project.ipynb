{
  "nbformat": 4,
  "nbformat_minor": 0,
  "metadata": {
    "colab": {
      "provenance": [],
      "authorship_tag": "ABX9TyNj2QZGREJxLPrUnIuwEUQC",
      "include_colab_link": true
    },
    "kernelspec": {
      "name": "python3",
      "display_name": "Python 3"
    },
    "language_info": {
      "name": "python"
    }
  },
  "cells": [
    {
      "cell_type": "markdown",
      "metadata": {
        "id": "view-in-github",
        "colab_type": "text"
      },
      "source": [
        "<a href=\"https://colab.research.google.com/github/maryamamin12/python_practice/blob/main/High_Low_project.ipynb\" target=\"_parent\"><img src=\"https://colab.research.google.com/assets/colab-badge.svg\" alt=\"Open In Colab\"/></a>"
      ]
    },
    {
      "cell_type": "code",
      "execution_count": null,
      "metadata": {
        "id": "Oaepaga5rHHv",
        "colab": {
          "base_uri": "https://localhost:8080/"
        },
        "outputId": "0cfdacec-05a4-4697-9df7-8391580566a2"
      },
      "outputs": [
        {
          "output_type": "stream",
          "name": "stdout",
          "text": [
            "welcome to the High_Low game!\n",
            "-------------------------------\n",
            "The computer's number is 65\n",
            "your number is 98\n"
          ]
        }
      ],
      "source": [
        " # Milestone 1:\n",
        "\n",
        "import random\n",
        "\n",
        "print(\"welcome to the High_Low game!\")\n",
        "print(\"-------------------------------\")\n",
        "\n",
        "computer_number = random.randint(1, 100)\n",
        "user_number = random.randint(1,100)\n",
        "print(f\"The computer's number is {computer_number}\")\n",
        "print(f\"your number is {user_number}\")\n"
      ]
    },
    {
      "cell_type": "code",
      "source": [
        "# Milestone 2: Get the user choice\n",
        "\n",
        "print(input(\"Do you think your number is higher or lower than the computer's?: \"))\n"
      ],
      "metadata": {
        "colab": {
          "base_uri": "https://localhost:8080/"
        },
        "id": "iIUZ8ekwq8s5",
        "outputId": "66bc59df-6772-411c-d32f-af62c7ff1511"
      },
      "execution_count": null,
      "outputs": [
        {
          "output_type": "stream",
          "name": "stdout",
          "text": [
            "Do you think your number is higher or lower than the computer's?: higher\n",
            "higher\n"
          ]
        }
      ]
    },
    {
      "cell_type": "code",
      "source": [
        "import random\n",
        "\n",
        "NUM_ROUNDS = 5\n",
        "score = 0\n",
        "\n",
        "print(\"Welcome to the High_Low Game!\")\n",
        "print(\"-\" * 100) # good feature in python\n",
        "\n",
        "for round_num in range(1, NUM_ROUNDS + 1):\n",
        "\n",
        " my_random_num: int = random.randint(1, 100)\n",
        " computer_random_num: int = random.randint(1, 100)\n",
        "\n",
        " print(\"-\" * 50)\n",
        " print(f\"Round {round_num} \")\n",
        " print(\"-\" * 50)\n",
        "\n",
        " print(f\"your number is {my_random_num}\")\n",
        "#print(computer_random_num)\n",
        "\n",
        " user_guess = input(\"Do you think your number is Higher or Lower than the computer's: \")\n",
        "\n",
        " if (\n",
        "    (user_guess == \"higher\" and computer_random_num > my_random_num) # for higher\n",
        "    or\n",
        "    (user_guess == \"Lower\" and computer_random_num < my_random_num ) # for lower\n",
        "    ):\n",
        "\n",
        "\n",
        "   print(f\"you got a point +1, The computer number is {computer_random_num} \")\n",
        "   score += 1\n",
        " else:\n",
        "   print(f\"wrong answer, The computer numer is {computer_random_num} \")\n",
        "\n",
        "print(f\"your final score is {score} \")\n"
      ],
      "metadata": {
        "id": "igwTGAgYmZof",
        "colab": {
          "base_uri": "https://localhost:8080/"
        },
        "outputId": "dd227dc7-2a42-4a1c-dfc7-a147dd4816c3"
      },
      "execution_count": 23,
      "outputs": [
        {
          "output_type": "stream",
          "name": "stdout",
          "text": [
            "Welcome to the High_Low Game!\n",
            "----------------------------------------------------------------------------------------------------\n",
            "--------------------------------------------------\n",
            "Round 1 \n",
            "--------------------------------------------------\n",
            "your number is 86\n",
            "Do you think your number is Higher or Lower than the computer's: higher\n",
            "wrong answer, The computer numer is 42 \n",
            "--------------------------------------------------\n",
            "Round 2 \n",
            "--------------------------------------------------\n",
            "your number is 52\n",
            "Do you think your number is Higher or Lower than the computer's: lower\n",
            "wrong answer, The computer numer is 75 \n",
            "--------------------------------------------------\n",
            "Round 3 \n",
            "--------------------------------------------------\n",
            "your number is 14\n",
            "Do you think your number is Higher or Lower than the computer's: lower\n",
            "wrong answer, The computer numer is 36 \n",
            "--------------------------------------------------\n",
            "Round 4 \n",
            "--------------------------------------------------\n",
            "your number is 69\n",
            "Do you think your number is Higher or Lower than the computer's: lower\n",
            "wrong answer, The computer numer is 8 \n"
          ]
        }
      ]
    },
    {
      "cell_type": "code",
      "source": [
        "NUM_ROUNDS = 5\n",
        "for round_num in range(1, NUM_ROUNDS +1):\n",
        "  print(f\"Round {round_num}\")\n",
        "\n"
      ],
      "metadata": {
        "colab": {
          "base_uri": "https://localhost:8080/"
        },
        "id": "Kucv9ur10Cm5",
        "outputId": "e84d949a-de42-4b09-8ee1-7603ec9ce293"
      },
      "execution_count": 14,
      "outputs": [
        {
          "output_type": "stream",
          "name": "stdout",
          "text": [
            "Round 1\n",
            "Round 2\n",
            "Round 3\n",
            "Round 4\n",
            "Round 5\n"
          ]
        }
      ]
    }
  ]
}