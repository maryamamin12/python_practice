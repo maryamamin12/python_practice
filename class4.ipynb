{
  "nbformat": 4,
  "nbformat_minor": 0,
  "metadata": {
    "colab": {
      "provenance": [],
      "authorship_tag": "ABX9TyO4M+ZPPyUy6MCnGxTJ2qTh",
      "include_colab_link": true
    },
    "kernelspec": {
      "name": "python3",
      "display_name": "Python 3"
    },
    "language_info": {
      "name": "python"
    }
  },
  "cells": [
    {
      "cell_type": "markdown",
      "metadata": {
        "id": "view-in-github",
        "colab_type": "text"
      },
      "source": [
        "<a href=\"https://colab.research.google.com/github/maryamamin12/python_practice/blob/main/class4.ipynb\" target=\"_parent\"><img src=\"https://colab.research.google.com/assets/colab-badge.svg\" alt=\"Open In Colab\"/></a>"
      ]
    },
    {
      "cell_type": "markdown",
      "source": [
        "# What is function"
      ],
      "metadata": {
        "id": "Y-Q9sDgz5KF7"
      }
    },
    {
      "cell_type": "code",
      "execution_count": null,
      "metadata": {
        "id": "BqdFY5YRU9Hm",
        "colab": {
          "base_uri": "https://localhost:8080/"
        },
        "outputId": "b70b6c8f-dbe9-4a81-f2c2-2a7c92dcb6d4"
      },
      "outputs": [
        {
          "output_type": "stream",
          "name": "stdout",
          "text": [
            "Hello maryam\n"
          ]
        }
      ],
      "source": [
        "# Lets Greet\n",
        "print(\"Hello maryam\")\n",
        "\n",
        "# why we use function?\n",
        "# Because it saves us repetition.\n",
        "# Because helps us organize our code.\n",
        "\n",
        "# Syntax\n",
        "def function_name(parameter):\n",
        "  # code block\n",
        "    return value"
      ]
    },
    {
      "cell_type": "markdown",
      "source": [
        "# Lets Greet through function"
      ],
      "metadata": {
        "id": "3Ma9CQ8W6l_6"
      }
    },
    {
      "cell_type": "code",
      "source": [
        "def greet():\n",
        "  # Block of code\n",
        "  print(\"Hello maryam\")\n",
        "# Calling the function\n",
        "greet()"
      ],
      "metadata": {
        "colab": {
          "base_uri": "https://localhost:8080/"
        },
        "id": "on9tLH4d6vpx",
        "outputId": "171bb1c0-a96d-4616-e3dd-f297a07fe680"
      },
      "execution_count": null,
      "outputs": [
        {
          "output_type": "stream",
          "name": "stdout",
          "text": [
            "Hello maryam\n"
          ]
        }
      ]
    },
    {
      "cell_type": "markdown",
      "source": [
        "# Lets creat a function with parameter"
      ],
      "metadata": {
        "id": "UViCET05hv5M"
      }
    },
    {
      "cell_type": "code",
      "source": [
        "def greet(name):\n",
        "# Block of code\n",
        "  print(f\"Hello {name}\")\n",
        "#  lets call the function with parameter\n",
        "greet(\"maryam\")\n",
        "greet(\"rimsha\")"
      ],
      "metadata": {
        "id": "8Dk16JRwe4It",
        "colab": {
          "base_uri": "https://localhost:8080/"
        },
        "outputId": "f5f3adad-ed5f-4fcf-8591-fb40055b082c"
      },
      "execution_count": null,
      "outputs": [
        {
          "output_type": "stream",
          "name": "stdout",
          "text": [
            "Hello maryam\n",
            "Hello rimsha\n"
          ]
        }
      ]
    },
    {
      "cell_type": "markdown",
      "source": [
        "# Lets creat a function with return value"
      ],
      "metadata": {
        "id": "JA-OVdGqkvVl"
      }
    },
    {
      "cell_type": "code",
      "source": [
        "def add_two(a , b):\n",
        "# Block of code\n",
        " c = a + b\n",
        " return c\n",
        "add_two(12,90)"
      ],
      "metadata": {
        "colab": {
          "base_uri": "https://localhost:8080/"
        },
        "id": "knb23Esek4K6",
        "outputId": "bc0e7eb4-4235-4487-d2de-bdfcf285b077"
      },
      "execution_count": null,
      "outputs": [
        {
          "output_type": "execute_result",
          "data": {
            "text/plain": [
              "102"
            ]
          },
          "metadata": {},
          "execution_count": 15
        }
      ]
    },
    {
      "cell_type": "markdown",
      "source": [
        "# Define default parameters"
      ],
      "metadata": {
        "id": "o1jcX62XcrSK"
      }
    },
    {
      "cell_type": "code",
      "source": [
        "def greet_with_default(name = \"Maryam\"):\n",
        "  print(f\"Hello {name}\")\n",
        "\n",
        "# Lets call the function\n",
        "greet_with_default(\"Guest\")\n",
        "\n",
        "# With return value\n",
        "def add_two(a = 12 , b = 4):\n",
        "  c = a + b\n",
        "  return c\n",
        "add_two(1,5)"
      ],
      "metadata": {
        "colab": {
          "base_uri": "https://localhost:8080/"
        },
        "id": "N6Rj8Cq_c1cO",
        "outputId": "581206a4-d718-4a53-e76f-5334487c6d67"
      },
      "execution_count": null,
      "outputs": [
        {
          "output_type": "stream",
          "name": "stdout",
          "text": [
            "Hello Guest\n"
          ]
        },
        {
          "output_type": "execute_result",
          "data": {
            "text/plain": [
              "6"
            ]
          },
          "metadata": {},
          "execution_count": 5
        }
      ]
    },
    {
      "cell_type": "code",
      "source": [
        "\n",
        "def make_tea():\n",
        "  print(\"step 1: Boil water\")\n",
        "  print(\"step 2: Add Milk\")\n",
        "  print(\"step 3: Add Patti\")\n",
        "  print(\"step 4: Serve tea\")\n",
        "  return \"tea  maked\"\n",
        "\n",
        "tea1 = make_tea()\n",
        "#              for phuppo\n",
        "\n",
        "print(f\"{tea1} for phuppo\")"
      ],
      "metadata": {
        "colab": {
          "base_uri": "https://localhost:8080/"
        },
        "id": "9cNNH2yLfeA9",
        "outputId": "2c778e77-014e-4353-90a4-9019303bd829"
      },
      "execution_count": null,
      "outputs": [
        {
          "output_type": "stream",
          "name": "stdout",
          "text": [
            "step 1: Boil water\n",
            "step 2: Add Milk\n",
            "step 3: Add Patti\n",
            "step 4: Serve tea\n",
            "tea  maked for phuppo\n"
          ]
        }
      ]
    },
    {
      "cell_type": "code",
      "source": [
        "def call_llm(prompt):\n",
        "  print(f\"user: {prompt}\")\n",
        "  return \"AI: Hello, How can i assist you today.\"\n",
        "\n",
        "#                     parameter of value\n",
        "response = call_llm(prompt = \"Hello, My name is Maryam\")\n",
        "\n",
        "print(response)"
      ],
      "metadata": {
        "id": "ag_4CspSgQrW",
        "colab": {
          "base_uri": "https://localhost:8080/"
        },
        "outputId": "7cb0db44-11cb-40c8-8cab-f7c4d573420e"
      },
      "execution_count": 6,
      "outputs": [
        {
          "output_type": "stream",
          "name": "stdout",
          "text": [
            "user: Hello, My name is Maryam\n",
            "AI: Hello, How can i assist you today.\n"
          ]
        }
      ]
    }
  ]
}