{
  "nbformat": 4,
  "nbformat_minor": 0,
  "metadata": {
    "colab": {
      "provenance": [],
      "authorship_tag": "ABX9TyOIcIHCAyvINAxjibj/P0UZ",
      "include_colab_link": true
    },
    "kernelspec": {
      "name": "python3",
      "display_name": "Python 3"
    },
    "language_info": {
      "name": "python"
    }
  },
  "cells": [
    {
      "cell_type": "markdown",
      "metadata": {
        "id": "view-in-github",
        "colab_type": "text"
      },
      "source": [
        "<a href=\"https://colab.research.google.com/github/maryamamin12/python_practice/blob/main/class4.ipynb\" target=\"_parent\"><img src=\"https://colab.research.google.com/assets/colab-badge.svg\" alt=\"Open In Colab\"/></a>"
      ]
    },
    {
      "cell_type": "markdown",
      "source": [
        "# What is function"
      ],
      "metadata": {
        "id": "Y-Q9sDgz5KF7"
      }
    },
    {
      "cell_type": "code",
      "execution_count": 1,
      "metadata": {
        "id": "BqdFY5YRU9Hm",
        "colab": {
          "base_uri": "https://localhost:8080/"
        },
        "outputId": "b70b6c8f-dbe9-4a81-f2c2-2a7c92dcb6d4"
      },
      "outputs": [
        {
          "output_type": "stream",
          "name": "stdout",
          "text": [
            "Hello maryam\n"
          ]
        }
      ],
      "source": [
        "# Lets Greet\n",
        "print(\"Hello maryam\")\n",
        "\n",
        "# why we use function?\n",
        "# Because it saves us repetition.\n",
        "# Because helps us organize our code.\n",
        "\n",
        "# Syntax\n",
        "def function_name(parameter):\n",
        "  # code block\n",
        "    return value"
      ]
    },
    {
      "cell_type": "markdown",
      "source": [
        "# Lets Greet through function"
      ],
      "metadata": {
        "id": "3Ma9CQ8W6l_6"
      }
    },
    {
      "cell_type": "code",
      "source": [
        "def greet():\n",
        "  # Block of code\n",
        "  print(\"Hello maryam\")\n",
        "# Calling the function\n",
        "greet()"
      ],
      "metadata": {
        "colab": {
          "base_uri": "https://localhost:8080/"
        },
        "id": "on9tLH4d6vpx",
        "outputId": "171bb1c0-a96d-4616-e3dd-f297a07fe680"
      },
      "execution_count": 4,
      "outputs": [
        {
          "output_type": "stream",
          "name": "stdout",
          "text": [
            "Hello maryam\n"
          ]
        }
      ]
    },
    {
      "cell_type": "markdown",
      "source": [
        "# Lets creat a function with parameter"
      ],
      "metadata": {
        "id": "UViCET05hv5M"
      }
    }
  ]
}