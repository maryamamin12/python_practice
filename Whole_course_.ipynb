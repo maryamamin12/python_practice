{
  "nbformat": 4,
  "nbformat_minor": 0,
  "metadata": {
    "colab": {
      "provenance": [],
      "authorship_tag": "ABX9TyNUdzZLdJrRHSNc2ErMWjPv",
      "include_colab_link": true
    },
    "kernelspec": {
      "name": "python3",
      "display_name": "Python 3"
    },
    "language_info": {
      "name": "python"
    }
  },
  "cells": [
    {
      "cell_type": "markdown",
      "metadata": {
        "id": "view-in-github",
        "colab_type": "text"
      },
      "source": [
        "<a href=\"https://colab.research.google.com/github/maryamamin12/python_practice/blob/main/Whole_course_.ipynb\" target=\"_parent\"><img src=\"https://colab.research.google.com/assets/colab-badge.svg\" alt=\"Open In Colab\"/></a>"
      ]
    },
    {
      "cell_type": "code",
      "execution_count": null,
      "metadata": {
        "colab": {
          "base_uri": "https://localhost:8080/"
        },
        "id": "Ge2ANbv25V16",
        "outputId": "52f29824-be87-4d9d-ebe5-6351ba039158"
      },
      "outputs": [
        {
          "output_type": "stream",
          "name": "stdout",
          "text": [
            "hello world\n"
          ]
        }
      ],
      "source": [
        "print(\"hello world\")   # print is a buildin function in python"
      ]
    },
    {
      "cell_type": "markdown",
      "source": [
        "# Variables"
      ],
      "metadata": {
        "id": "eo0IX_l498Nb"
      }
    },
    {
      "cell_type": "code",
      "source": [
        "name = \"zain\"\n",
        "age = 5\n",
        "height = 6.3\n",
        "\n",
        "print(name, age, height)"
      ],
      "metadata": {
        "colab": {
          "base_uri": "https://localhost:8080/"
        },
        "id": "7C65-AiL-A_Q",
        "outputId": "0ff8fe6d-a89d-4089-fc36-bf9055e00deb"
      },
      "execution_count": null,
      "outputs": [
        {
          "output_type": "stream",
          "name": "stdout",
          "text": [
            "zain 5 6.3\n"
          ]
        }
      ]
    },
    {
      "cell_type": "markdown",
      "source": [
        "# comments in python"
      ],
      "metadata": {
        "id": "aGq51tnLGA12"
      }
    },
    {
      "cell_type": "code",
      "source": [
        "### tha is called  comments in python"
      ],
      "metadata": {
        "id": "e7JfAeXcGG58"
      },
      "execution_count": null,
      "outputs": []
    },
    {
      "cell_type": "markdown",
      "source": [
        "# Data types in python"
      ],
      "metadata": {
        "id": "miFDIWL3GmfT"
      }
    },
    {
      "cell_type": "code",
      "source": [
        "#Numeric type\n",
        "\"\"\"\n",
        "1. int--- whole numbers (100, 200) etc\n",
        "2. float-- decimal numbers (1.23, 4.6)\n",
        "\"\"\"\n",
        "# Example of numeric type\n",
        "\n",
        "a = 10\n",
        "b = 1.23\n",
        "\n",
        "print(a, b)\n",
        "\n",
        "print(type(a), type(b))"
      ],
      "metadata": {
        "colab": {
          "base_uri": "https://localhost:8080/"
        },
        "id": "zQ_wUorYGtGh",
        "outputId": "81b71894-80f5-4aad-a12d-92ae3229a3c4"
      },
      "execution_count": null,
      "outputs": [
        {
          "output_type": "stream",
          "name": "stdout",
          "text": [
            "10 1.23\n",
            "<class 'int'> <class 'float'>\n"
          ]
        }
      ]
    },
    {
      "cell_type": "code",
      "source": [
        "# Bolean data type\n",
        "\"\"\"\n",
        "True/ False\n",
        "Logical operation\n",
        "\"\"\"\n",
        "is_rating = True\n",
        "is_sunny = False\n",
        "\n",
        "print(is_rating, is_sunny)\n",
        "\n",
        "\n",
        "# String\n",
        "\n",
        "text = \"this is a string\"\n",
        "print(text)\n",
        "\n",
        "# List\n",
        "\n",
        "my_list = [\"data1\", \"data2\", \"data3\"] #list kam karta hy like a box\n",
        "print(my_list)"
      ],
      "metadata": {
        "colab": {
          "base_uri": "https://localhost:8080/"
        },
        "id": "ChtFL0UfRj3h",
        "outputId": "3638edac-09ed-4513-e140-8728cfc029c2"
      },
      "execution_count": null,
      "outputs": [
        {
          "output_type": "stream",
          "name": "stdout",
          "text": [
            "True False\n",
            "this is a string\n",
            "['data1', 'data2', 'data3']\n"
          ]
        }
      ]
    },
    {
      "cell_type": "markdown",
      "source": [
        "# Dictionary"
      ],
      "metadata": {
        "id": "_wCf73-sYZd7"
      }
    },
    {
      "cell_type": "code",
      "source": [
        "\"\"\"\n",
        "pairs\n",
        "key_values\n",
        "curly braces\n",
        "\"\"\"\n",
        "\n",
        "persons = {\n",
        "    \"name\" : \"maryam\",\n",
        "    \"age\" : 22,\n",
        "}\n",
        "\n",
        "print(persons)"
      ],
      "metadata": {
        "colab": {
          "base_uri": "https://localhost:8080/"
        },
        "id": "GnXX_kZuYoQG",
        "outputId": "2be69140-d1f8-4607-e6c2-c1ac32e8b3af"
      },
      "execution_count": null,
      "outputs": [
        {
          "output_type": "stream",
          "name": "stdout",
          "text": [
            "{'name': 'maryam', 'age': 22}\n"
          ]
        }
      ]
    },
    {
      "cell_type": "markdown",
      "source": [
        "# Operstors"
      ],
      "metadata": {
        "id": "Hyk15joXZshn"
      }
    }
  ]
}