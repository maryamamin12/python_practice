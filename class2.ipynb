{
  "nbformat": 4,
  "nbformat_minor": 0,
  "metadata": {
    "colab": {
      "provenance": [],
      "authorship_tag": "ABX9TyM9B7pPNRCDXg92fbmVRsjf",
      "include_colab_link": true
    },
    "kernelspec": {
      "name": "python3",
      "display_name": "Python 3"
    },
    "language_info": {
      "name": "python"
    }
  },
  "cells": [
    {
      "cell_type": "markdown",
      "metadata": {
        "id": "view-in-github",
        "colab_type": "text"
      },
      "source": [
        "<a href=\"https://colab.research.google.com/github/maryamamin12/python_practice/blob/main/class2.ipynb\" target=\"_parent\"><img src=\"https://colab.research.google.com/assets/colab-badge.svg\" alt=\"Open In Colab\"/></a>"
      ]
    },
    {
      "cell_type": "markdown",
      "source": [
        "# Comparison Operators:"
      ],
      "metadata": {
        "id": "Ni-eXgFlCwLR"
      }
    },
    {
      "cell_type": "code",
      "source": [
        "a = 30\n",
        "b = 18\n",
        "\n",
        "print(a == b) # checks if a is equal to b\n",
        "print(a != b) # checks if a not equal to b\n",
        "print(a  > b) # checks if a greater than b\n",
        "print(a  < b) # checks if a less than b\n",
        "print(a >= 8) # checks if a greater than or equal to 8\n",
        "print(a <= b) # checks if a less than or equal to b"
      ],
      "metadata": {
        "colab": {
          "base_uri": "https://localhost:8080/"
        },
        "id": "AjFnBkJVDG0k",
        "outputId": "41434364-e9c6-41b8-e47f-8e6c1488a83c"
      },
      "execution_count": null,
      "outputs": [
        {
          "output_type": "stream",
          "name": "stdout",
          "text": [
            "False\n",
            "True\n",
            "True\n",
            "False\n",
            "True\n",
            "False\n"
          ]
        }
      ]
    },
    {
      "cell_type": "code",
      "source": [
        "# Comparision operators example\n",
        "my_age = 19\n",
        "      # 19  == 14  = false\n",
        "print(my_age == 14)\n",
        "     # 19 > 14\n",
        "print(my_age > 14)\n",
        "     # 19 > 14\n",
        "print(my_age < 14)\n",
        "     # 19 >=  14\n",
        "print(my_age >= 14)\n",
        "    # 19 <=  20\n",
        "print(my_age <= 20)\n",
        "     # 19 != 19\n",
        "print(my_age != 19)"
      ],
      "metadata": {
        "colab": {
          "base_uri": "https://localhost:8080/"
        },
        "id": "nZGVMRHmAzBz",
        "outputId": "abd54f5f-c0c7-4009-db95-821affc9dd06"
      },
      "execution_count": null,
      "outputs": [
        {
          "output_type": "stream",
          "name": "stdout",
          "text": [
            "False\n",
            "True\n",
            "False\n",
            "True\n",
            "True\n",
            "False\n"
          ]
        }
      ]
    },
    {
      "cell_type": "markdown",
      "source": [
        "# Conditional statements:"
      ],
      "metadata": {
        "id": "bfq482EW-lOO"
      }
    },
    {
      "cell_type": "code",
      "source": [
        "my_age = 18\n",
        "if (my_age > 12):\n",
        "  print(\"i am eighteen years old\") #  Do some code only if some condition is true\n",
        "else:\n",
        "  print(\"i am not twellve years old\")\n",
        "\n"
      ],
      "metadata": {
        "colab": {
          "base_uri": "https://localhost:8080/"
        },
        "id": "ipzu9NUK-xIU",
        "outputId": "21502a4f-cf09-4a00-e0f1-82fd06aaf114"
      },
      "execution_count": 3,
      "outputs": [
        {
          "output_type": "stream",
          "name": "stdout",
          "text": [
            "i am eighteen years old\n"
          ]
        }
      ]
    },
    {
      "cell_type": "code",
      "source": [
        "my_age = 19\n",
        "if (my_age < 14):\n",
        "  print(\"you are allowed\")\n",
        "else:\n",
        "  print(\"you are not allowed\") # Else do something else"
      ],
      "metadata": {
        "colab": {
          "base_uri": "https://localhost:8080/"
        },
        "id": "hcU3hUmPDfAh",
        "outputId": "8d3a85a8-1d07-4b4b-8f99-c86e67659ceb"
      },
      "execution_count": 5,
      "outputs": [
        {
          "output_type": "stream",
          "name": "stdout",
          "text": [
            "you are not allowed\n"
          ]
        }
      ]
    }
  ]
}