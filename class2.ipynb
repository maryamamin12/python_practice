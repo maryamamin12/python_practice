{
  "nbformat": 4,
  "nbformat_minor": 0,
  "metadata": {
    "colab": {
      "provenance": [],
      "authorship_tag": "ABX9TyP/xqaf58Fr+qFFd1zdAyXC",
      "include_colab_link": true
    },
    "kernelspec": {
      "name": "python3",
      "display_name": "Python 3"
    },
    "language_info": {
      "name": "python"
    }
  },
  "cells": [
    {
      "cell_type": "markdown",
      "metadata": {
        "id": "view-in-github",
        "colab_type": "text"
      },
      "source": [
        "<a href=\"https://colab.research.google.com/github/maryamamin12/python_practice/blob/main/class2.ipynb\" target=\"_parent\"><img src=\"https://colab.research.google.com/assets/colab-badge.svg\" alt=\"Open In Colab\"/></a>"
      ]
    },
    {
      "cell_type": "markdown",
      "source": [
        "# Comparison Operators:"
      ],
      "metadata": {
        "id": "Ni-eXgFlCwLR"
      }
    },
    {
      "cell_type": "code",
      "source": [
        "a = 30\n",
        "b = 18\n",
        "\n",
        "print(a == b) # checks if a is equal to b\n",
        "print(a != b) # checks if a not equal to b\n",
        "print(a  > b) # checks if a greater than b\n",
        "print(a  < b) # checks if a less than b\n",
        "print(a >= 8) # checks if a greater than or equal to 8\n",
        "print(a <= b) # checks if a less than or equal to b"
      ],
      "metadata": {
        "colab": {
          "base_uri": "https://localhost:8080/"
        },
        "id": "AjFnBkJVDG0k",
        "outputId": "41434364-e9c6-41b8-e47f-8e6c1488a83c"
      },
      "execution_count": null,
      "outputs": [
        {
          "output_type": "stream",
          "name": "stdout",
          "text": [
            "False\n",
            "True\n",
            "True\n",
            "False\n",
            "True\n",
            "False\n"
          ]
        }
      ]
    },
    {
      "cell_type": "code",
      "source": [
        "# Comparision operators example\n",
        "my_age = 19\n",
        "      # 19  == 14  = false\n",
        "print(my_age == 14)\n",
        "     # 19 > 14\n",
        "print(my_age > 14)\n",
        "     # 19 > 14\n",
        "print(my_age < 14)\n",
        "     # 19 >=  14\n",
        "print(my_age >= 14)\n",
        "    # 19 <=  20\n",
        "print(my_age <= 20)\n",
        "     # 19 != 19\n",
        "print(my_age != 19)"
      ],
      "metadata": {
        "colab": {
          "base_uri": "https://localhost:8080/"
        },
        "id": "nZGVMRHmAzBz",
        "outputId": "abd54f5f-c0c7-4009-db95-821affc9dd06"
      },
      "execution_count": null,
      "outputs": [
        {
          "output_type": "stream",
          "name": "stdout",
          "text": [
            "False\n",
            "True\n",
            "False\n",
            "True\n",
            "True\n",
            "False\n"
          ]
        }
      ]
    },
    {
      "cell_type": "markdown",
      "source": [
        "# Conditional statements:"
      ],
      "metadata": {
        "id": "bfq482EW-lOO"
      }
    },
    {
      "cell_type": "code",
      "source": [
        "my_age = 18\n",
        "if (my_age > 12):\n",
        "  print(\"i am eighteen years old\") #  Do some code only if some condition is true\n",
        "else:\n",
        "  print(\"i am not twellve years old\")\n",
        "\n"
      ],
      "metadata": {
        "colab": {
          "base_uri": "https://localhost:8080/"
        },
        "id": "ipzu9NUK-xIU",
        "outputId": "21502a4f-cf09-4a00-e0f1-82fd06aaf114"
      },
      "execution_count": null,
      "outputs": [
        {
          "output_type": "stream",
          "name": "stdout",
          "text": [
            "i am eighteen years old\n"
          ]
        }
      ]
    },
    {
      "cell_type": "code",
      "source": [
        "my_age = 19\n",
        "if (my_age < 14):\n",
        "  print(\"you are allowed\")\n",
        "else:\n",
        "  print(\"you are not allowed\") # Else do something else"
      ],
      "metadata": {
        "colab": {
          "base_uri": "https://localhost:8080/"
        },
        "id": "hcU3hUmPDfAh",
        "outputId": "8d3a85a8-1d07-4b4b-8f99-c86e67659ceb"
      },
      "execution_count": null,
      "outputs": [
        {
          "output_type": "stream",
          "name": "stdout",
          "text": [
            "you are not allowed\n"
          ]
        }
      ]
    },
    {
      "cell_type": "code",
      "source": [
        "age = int(input(\"Enter your age: \"))\n",
        "if (age >= 18):\n",
        "  print(\"you are now signed up! \")\n",
        "elif (age < 0):\n",
        "  print(\"you haven't been born yet! \")\n",
        "elif (age >= 100):\n",
        "  print(\"you are too old to signed up! \")\n",
        "else:\n",
        "  print(\"you must be 18+ sign up! \")"
      ],
      "metadata": {
        "colab": {
          "base_uri": "https://localhost:8080/"
        },
        "id": "AgjEEM8pJaOT",
        "outputId": "2e5833dc-3689-4be8-cfa6-59543e39328c"
      },
      "execution_count": null,
      "outputs": [
        {
          "output_type": "stream",
          "name": "stdout",
          "text": [
            "Enter your age: 111\n",
            "you are now signed up! \n"
          ]
        }
      ]
    },
    {
      "cell_type": "code",
      "source": [
        "num = int(input(\"Enter the value of number: \"))\n",
        "if (num < 0):\n",
        "  print(\"Number is negative. \")\n",
        "elif (num == 12):\n",
        "  print(\"Number will be equal. \")\n",
        "else:\n",
        "  print(\"Number is postive. \")"
      ],
      "metadata": {
        "colab": {
          "base_uri": "https://localhost:8080/"
        },
        "id": "Hs-M-nmWHi47",
        "outputId": "8e4de24a-b254-4214-c041-c10be7d891e4"
      },
      "execution_count": 4,
      "outputs": [
        {
          "output_type": "stream",
          "name": "stdout",
          "text": [
            "Enter the value of number: 12\n",
            "Number will be equal. \n"
          ]
        }
      ]
    },
    {
      "cell_type": "markdown",
      "source": [
        "# Logical Operators:"
      ],
      "metadata": {
        "id": "QrrqdaWeTh6T"
      }
    },
    {
      "cell_type": "markdown",
      "source": [
        ". and, or,  not operators"
      ],
      "metadata": {
        "id": "gRa2vP5xaPGA"
      }
    },
    {
      "cell_type": "code",
      "source": [
        "a = True\n",
        "b = False\n",
        "print(a and b)\n",
        "print(a or b)"
      ],
      "metadata": {
        "colab": {
          "base_uri": "https://localhost:8080/"
        },
        "id": "_wyqvpMgTurl",
        "outputId": "ff354765-cf91-4963-923b-ec5a22d48bb0"
      },
      "execution_count": 9,
      "outputs": [
        {
          "output_type": "stream",
          "name": "stdout",
          "text": [
            "False\n",
            "True\n"
          ]
        }
      ]
    },
    {
      "cell_type": "code",
      "source": [
        "x = 10\n",
        "y = 20\n",
        "\n",
        "print(x<y and x!=y)  # agar dono conditions true hain to result true hota hy.\n",
        "print(x==y or x>y or x<=y) # agar koi bi aik condition true ho to result true hota hy.\n",
        "print(not x!=y)  # ye kisi bi condition ka opposite kar deta hy."
      ],
      "metadata": {
        "colab": {
          "base_uri": "https://localhost:8080/"
        },
        "id": "z8AOU88AaMxr",
        "outputId": "ce81402d-732b-405f-b6d3-eb7329f87cab"
      },
      "execution_count": 14,
      "outputs": [
        {
          "output_type": "stream",
          "name": "stdout",
          "text": [
            "True\n",
            "True\n",
            "False\n"
          ]
        }
      ]
    },
    {
      "cell_type": "code",
      "source": [
        "age = int(input(\"Enter your age: \"))\n",
        "weight = int(input(\"Enter your weight: \"))\n",
        "\n",
        "if (age < 18):\n",
        "  print(\"you are a minor. \")\n",
        "elif (age >= 18 and age <= 79):\n",
        "  print(\"you are a young person. \")\n",
        "elif (age >=80 and weight <= 80):\n",
        "  print(\"you can sit.\")\n",
        "else:\n",
        "  print(\"you are over weight.\")"
      ],
      "metadata": {
        "colab": {
          "base_uri": "https://localhost:8080/"
        },
        "id": "SHjOcjqbhL69",
        "outputId": "e146c4e4-9ea1-4c8a-febe-3316725caaad"
      },
      "execution_count": 18,
      "outputs": [
        {
          "output_type": "stream",
          "name": "stdout",
          "text": [
            "Enter your age: 80\n",
            "Enter your weight: 80\n",
            "you can sit.\n"
          ]
        }
      ]
    }
  ]
}