{
  "nbformat": 4,
  "nbformat_minor": 0,
  "metadata": {
    "colab": {
      "provenance": [],
      "authorship_tag": "ABX9TyPf6tsWLilPRqCKkvyKnHxa",
      "include_colab_link": true
    },
    "kernelspec": {
      "name": "python3",
      "display_name": "Python 3"
    },
    "language_info": {
      "name": "python"
    }
  },
  "cells": [
    {
      "cell_type": "markdown",
      "metadata": {
        "id": "view-in-github",
        "colab_type": "text"
      },
      "source": [
        "<a href=\"https://colab.research.google.com/github/maryamamin12/python_practice/blob/main/class1.ipynb\" target=\"_parent\"><img src=\"https://colab.research.google.com/assets/colab-badge.svg\" alt=\"Open In Colab\"/></a>"
      ]
    },
    {
      "cell_type": "code",
      "execution_count": null,
      "metadata": {
        "colab": {
          "base_uri": "https://localhost:8080/"
        },
        "id": "wjK_BB99C5Uv",
        "outputId": "feb9b898-32df-483c-ccad-69134638d892"
      },
      "outputs": [
        {
          "output_type": "stream",
          "name": "stdout",
          "text": [
            "Hello world\n"
          ]
        }
      ],
      "source": [
        "print(\"Hello world\")"
      ]
    },
    {
      "cell_type": "code",
      "source": [
        "print(\"Hello maryam\")"
      ],
      "metadata": {
        "colab": {
          "base_uri": "https://localhost:8080/"
        },
        "id": "D7EdpTfXFIgQ",
        "outputId": "07dc63bf-14d9-452c-df4e-a610ef1301d5"
      },
      "execution_count": null,
      "outputs": [
        {
          "output_type": "stream",
          "name": "stdout",
          "text": [
            "Hello maryam\n"
          ]
        }
      ]
    },
    {
      "cell_type": "code",
      "source": [
        "print(\"welcome to python programming!\")\n",
        "print(\"i'm future develope\")"
      ],
      "metadata": {
        "colab": {
          "base_uri": "https://localhost:8080/"
        },
        "id": "h1c5o7hXFdKi",
        "outputId": "c8a12ed9-5aa3-45dc-de1b-c7facb8220bd"
      },
      "execution_count": null,
      "outputs": [
        {
          "output_type": "stream",
          "name": "stdout",
          "text": [
            "welcome to python programming!\n",
            "i'm future develope\n"
          ]
        }
      ]
    },
    {
      "cell_type": "markdown",
      "source": [
        "# creating variables for personal information"
      ],
      "metadata": {
        "id": "pNrGaJkE7cvg"
      }
    },
    {
      "cell_type": "code",
      "source": [
        "name = \"maryam\"\n",
        "print(name)\n",
        "\n",
        "age = 19\n",
        "print(age)"
      ],
      "metadata": {
        "id": "F039GVVM7_w9",
        "colab": {
          "base_uri": "https://localhost:8080/"
        },
        "outputId": "5b6b3eec-06fd-4dd8-e90a-78d3948f3214"
      },
      "execution_count": null,
      "outputs": [
        {
          "output_type": "stream",
          "name": "stdout",
          "text": [
            "maryam\n",
            "19\n"
          ]
        }
      ]
    },
    {
      "cell_type": "code",
      "source": [
        "fav_celebrity = \"Elone Musk\"\n",
        "print(fav_celebrity)\n",
        "\n",
        "fav_game = \"ludo\"\n",
        "print(fav_game)\n",
        "\n",
        "fav_food = \"biryani\"\n",
        "print(fav_food)"
      ],
      "metadata": {
        "colab": {
          "base_uri": "https://localhost:8080/"
        },
        "id": "0M-TtdsD9RKg",
        "outputId": "f546f69e-417d-489a-f0b9-c0c3a28fd907"
      },
      "execution_count": null,
      "outputs": [
        {
          "output_type": "stream",
          "name": "stdout",
          "text": [
            "Elone Musk\n",
            "ludo\n",
            "biryani\n"
          ]
        }
      ]
    },
    {
      "cell_type": "markdown",
      "source": [
        "# Data Type of Python:"
      ],
      "metadata": {
        "id": "8yrm1WzLXpPD"
      }
    },
    {
      "cell_type": "markdown",
      "source": [
        "1. String"
      ],
      "metadata": {
        "id": "T0q-7NnjX_B-"
      }
    },
    {
      "cell_type": "code",
      "source": [
        "sentence = \"i am learning python\"\n",
        "print(sentence)\n",
        "\n",
        "fav_number = \"twenty nine\"   # that is called string\n",
        "print(fav_number)"
      ],
      "metadata": {
        "colab": {
          "base_uri": "https://localhost:8080/"
        },
        "id": "WKE1_YsqYeL6",
        "outputId": "eb92c274-8d1b-4d7e-f223-199b482f2630"
      },
      "execution_count": null,
      "outputs": [
        {
          "output_type": "stream",
          "name": "stdout",
          "text": [
            "i am learning python\n",
            "twenty nine\n"
          ]
        }
      ]
    },
    {
      "cell_type": "code",
      "source": [
        "name = \"my name is maryam\"  # is called string data type\n",
        "print(name)\n",
        "\n",
        "age = \"nineteen\"\n",
        "print(age)\n",
        "fav_number = \"2222\"  # is also called string\n",
        "print(fav_number)"
      ],
      "metadata": {
        "colab": {
          "base_uri": "https://localhost:8080/"
        },
        "id": "GOpAr6gwaAqQ",
        "outputId": "7ea9d4bb-239e-472c-aeff-e7d99d6c8e7a"
      },
      "execution_count": null,
      "outputs": [
        {
          "output_type": "stream",
          "name": "stdout",
          "text": [
            "my name is maryam\n",
            "nineteen\n",
            "2222\n"
          ]
        }
      ]
    },
    {
      "cell_type": "markdown",
      "source": [
        "2. Number"
      ],
      "metadata": {
        "id": "exqoNUw2bCk-"
      }
    },
    {
      "cell_type": "code",
      "source": [
        "fav_number = 666666  # is called number data type\n",
        "print(fav_number)\n",
        "\n",
        "age = 19\n",
        "print(age)"
      ],
      "metadata": {
        "colab": {
          "base_uri": "https://localhost:8080/"
        },
        "id": "5Oc8JCXvbNtj",
        "outputId": "ef7c5392-adde-485f-fd64-accacda201af"
      },
      "execution_count": null,
      "outputs": [
        {
          "output_type": "stream",
          "name": "stdout",
          "text": [
            "666666\n",
            "19\n"
          ]
        }
      ]
    },
    {
      "cell_type": "markdown",
      "source": [
        " Concatenation."
      ],
      "metadata": {
        "id": "Z1G0QW4fg4i4"
      }
    },
    {
      "cell_type": "code",
      "source": [
        "sentence = \"my name is\"\n",
        "name = \" maryam \"\n",
        "print(sentence + name)  # that is called concatenation"
      ],
      "metadata": {
        "colab": {
          "base_uri": "https://localhost:8080/"
        },
        "id": "wTLu1XODhPi9",
        "outputId": "5d1e9382-b09a-4955-8c26-1e23cc36956a"
      },
      "execution_count": null,
      "outputs": [
        {
          "output_type": "stream",
          "name": "stdout",
          "text": [
            "my name is maryam \n"
          ]
        }
      ]
    },
    {
      "cell_type": "code",
      "source": [
        "first_name = \"maryam\"\n",
        "last_name = \" amin \"\n",
        "print(first_name + last_name)  # concatenation"
      ],
      "metadata": {
        "colab": {
          "base_uri": "https://localhost:8080/"
        },
        "id": "agrJpYv3iPFN",
        "outputId": "a63bdf2c-71dc-41d4-f035-aae6f6b4f4d3"
      },
      "execution_count": null,
      "outputs": [
        {
          "output_type": "stream",
          "name": "stdout",
          "text": [
            "maryam amin \n"
          ]
        }
      ]
    },
    {
      "cell_type": "code",
      "source": [
        "word1 = \" i love\"\n",
        "word2 = \" coding \"\n",
        "print(word1 + word2)"
      ],
      "metadata": {
        "colab": {
          "base_uri": "https://localhost:8080/"
        },
        "id": "dyC_EjlAiuFB",
        "outputId": "f412b919-84c0-48a0-e569-02eb746d9501"
      },
      "execution_count": null,
      "outputs": [
        {
          "output_type": "stream",
          "name": "stdout",
          "text": [
            " i love coding \n"
          ]
        }
      ]
    },
    {
      "cell_type": "markdown",
      "source": [
        "3 Float."
      ],
      "metadata": {
        "id": "sy2d-Hf_Wt84"
      }
    },
    {
      "cell_type": "code",
      "source": [
        "number = 6.6\n",
        "name = \"maryam\"\n",
        "print(number)\n",
        "print(name)"
      ],
      "metadata": {
        "colab": {
          "base_uri": "https://localhost:8080/"
        },
        "id": "7t02OLtyWz40",
        "outputId": "fabe4242-22df-4b01-9bde-84250167732d"
      },
      "execution_count": 2,
      "outputs": [
        {
          "output_type": "stream",
          "name": "stdout",
          "text": [
            "6.6\n",
            "maryam\n"
          ]
        }
      ]
    },
    {
      "cell_type": "code",
      "source": [
        "number = 77.8\n",
        "name = \"maryam\"\n",
        "print(type(number))    # identified the data type\n",
        "print(type(name))"
      ],
      "metadata": {
        "colab": {
          "base_uri": "https://localhost:8080/"
        },
        "id": "CAyt3wOKXH7O",
        "outputId": "6bf29c20-42eb-43b4-db98-e384192eb4db"
      },
      "execution_count": 4,
      "outputs": [
        {
          "output_type": "stream",
          "name": "stdout",
          "text": [
            "<class 'float'>\n",
            "<class 'str'>\n"
          ]
        }
      ]
    },
    {
      "cell_type": "code",
      "source": [
        "word = \"coding\"\n",
        "number = 45\n",
        "fav_number = 6.7\n",
        "print(type(word))\n",
        "print(type(fav_number))\n",
        "print(type(number))"
      ],
      "metadata": {
        "colab": {
          "base_uri": "https://localhost:8080/"
        },
        "id": "q16TvY3UXfAC",
        "outputId": "61a379ea-579f-4cce-aefa-55e7fb318889"
      },
      "execution_count": 11,
      "outputs": [
        {
          "output_type": "stream",
          "name": "stdout",
          "text": [
            "<class 'str'>\n",
            "<class 'float'>\n",
            "<class 'int'>\n"
          ]
        }
      ]
    }
  ]
}