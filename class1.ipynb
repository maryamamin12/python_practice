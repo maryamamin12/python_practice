{
  "nbformat": 4,
  "nbformat_minor": 0,
  "metadata": {
    "colab": {
      "provenance": [],
      "authorship_tag": "ABX9TyPgCMu5xgmOijFgwBZUW6zP",
      "include_colab_link": true
    },
    "kernelspec": {
      "name": "python3",
      "display_name": "Python 3"
    },
    "language_info": {
      "name": "python"
    }
  },
  "cells": [
    {
      "cell_type": "markdown",
      "metadata": {
        "id": "view-in-github",
        "colab_type": "text"
      },
      "source": [
        "<a href=\"https://colab.research.google.com/github/maryamamin12/python_practice/blob/main/class1.ipynb\" target=\"_parent\"><img src=\"https://colab.research.google.com/assets/colab-badge.svg\" alt=\"Open In Colab\"/></a>"
      ]
    },
    {
      "cell_type": "code",
      "execution_count": null,
      "metadata": {
        "colab": {
          "base_uri": "https://localhost:8080/"
        },
        "id": "wjK_BB99C5Uv",
        "outputId": "feb9b898-32df-483c-ccad-69134638d892"
      },
      "outputs": [
        {
          "output_type": "stream",
          "name": "stdout",
          "text": [
            "Hello world\n"
          ]
        }
      ],
      "source": [
        "print(\"Hello world\")"
      ]
    },
    {
      "cell_type": "code",
      "source": [
        "print(\"Hello maryam\")"
      ],
      "metadata": {
        "colab": {
          "base_uri": "https://localhost:8080/"
        },
        "id": "D7EdpTfXFIgQ",
        "outputId": "07dc63bf-14d9-452c-df4e-a610ef1301d5"
      },
      "execution_count": null,
      "outputs": [
        {
          "output_type": "stream",
          "name": "stdout",
          "text": [
            "Hello maryam\n"
          ]
        }
      ]
    },
    {
      "cell_type": "code",
      "source": [
        "print(\"welcome to python programming!\")\n",
        "print(\"i'm future develope\")"
      ],
      "metadata": {
        "colab": {
          "base_uri": "https://localhost:8080/"
        },
        "id": "h1c5o7hXFdKi",
        "outputId": "c8a12ed9-5aa3-45dc-de1b-c7facb8220bd"
      },
      "execution_count": null,
      "outputs": [
        {
          "output_type": "stream",
          "name": "stdout",
          "text": [
            "welcome to python programming!\n",
            "i'm future develope\n"
          ]
        }
      ]
    },
    {
      "cell_type": "markdown",
      "source": [
        "# creating variables for personal information"
      ],
      "metadata": {
        "id": "pNrGaJkE7cvg"
      }
    },
    {
      "cell_type": "code",
      "source": [
        "name = \"maryam\"\n",
        "print(name)\n",
        "\n",
        "age = 19\n",
        "print(age)"
      ],
      "metadata": {
        "id": "F039GVVM7_w9",
        "colab": {
          "base_uri": "https://localhost:8080/"
        },
        "outputId": "5b6b3eec-06fd-4dd8-e90a-78d3948f3214"
      },
      "execution_count": null,
      "outputs": [
        {
          "output_type": "stream",
          "name": "stdout",
          "text": [
            "maryam\n",
            "19\n"
          ]
        }
      ]
    },
    {
      "cell_type": "code",
      "source": [
        "fav_celebrity = \"Elone Musk\"\n",
        "print(fav_celebrity)\n",
        "\n",
        "fav_game = \"ludo\"\n",
        "print(fav_game)\n",
        "\n",
        "fav_food = \"biryani\"\n",
        "print(fav_food)"
      ],
      "metadata": {
        "colab": {
          "base_uri": "https://localhost:8080/"
        },
        "id": "0M-TtdsD9RKg",
        "outputId": "f546f69e-417d-489a-f0b9-c0c3a28fd907"
      },
      "execution_count": null,
      "outputs": [
        {
          "output_type": "stream",
          "name": "stdout",
          "text": [
            "Elone Musk\n",
            "ludo\n",
            "biryani\n"
          ]
        }
      ]
    },
    {
      "cell_type": "markdown",
      "source": [
        "# Data Type of Python:"
      ],
      "metadata": {
        "id": "8yrm1WzLXpPD"
      }
    },
    {
      "cell_type": "markdown",
      "source": [
        "1. String"
      ],
      "metadata": {
        "id": "T0q-7NnjX_B-"
      }
    },
    {
      "cell_type": "code",
      "source": [
        "sentence = \"i am learning python\"\n",
        "print(sentence)\n",
        "\n",
        "fav_number = \"twenty nine\"   # that is called string\n",
        "print(fav_number)"
      ],
      "metadata": {
        "colab": {
          "base_uri": "https://localhost:8080/"
        },
        "id": "WKE1_YsqYeL6",
        "outputId": "eb92c274-8d1b-4d7e-f223-199b482f2630"
      },
      "execution_count": null,
      "outputs": [
        {
          "output_type": "stream",
          "name": "stdout",
          "text": [
            "i am learning python\n",
            "twenty nine\n"
          ]
        }
      ]
    },
    {
      "cell_type": "code",
      "source": [
        "name = \"my name is maryam\"  # is called string data type\n",
        "print(name)\n",
        "\n",
        "age = \"nineteen\"\n",
        "print(age)\n",
        "fav_number = \"2222\"  # is also called string\n",
        "print(fav_number)"
      ],
      "metadata": {
        "colab": {
          "base_uri": "https://localhost:8080/"
        },
        "id": "GOpAr6gwaAqQ",
        "outputId": "7ea9d4bb-239e-472c-aeff-e7d99d6c8e7a"
      },
      "execution_count": null,
      "outputs": [
        {
          "output_type": "stream",
          "name": "stdout",
          "text": [
            "my name is maryam\n",
            "nineteen\n",
            "2222\n"
          ]
        }
      ]
    },
    {
      "cell_type": "markdown",
      "source": [
        "2. Number"
      ],
      "metadata": {
        "id": "exqoNUw2bCk-"
      }
    },
    {
      "cell_type": "code",
      "source": [
        "fav_number = 666666  # is called number data type\n",
        "print(fav_number)\n",
        "\n",
        "age = 19\n",
        "print(age)"
      ],
      "metadata": {
        "colab": {
          "base_uri": "https://localhost:8080/"
        },
        "id": "5Oc8JCXvbNtj",
        "outputId": "ef7c5392-adde-485f-fd64-accacda201af"
      },
      "execution_count": null,
      "outputs": [
        {
          "output_type": "stream",
          "name": "stdout",
          "text": [
            "666666\n",
            "19\n"
          ]
        }
      ]
    },
    {
      "cell_type": "markdown",
      "source": [
        "### Concatenation."
      ],
      "metadata": {
        "id": "Z1G0QW4fg4i4"
      }
    },
    {
      "cell_type": "code",
      "source": [
        "sentence = \"my name is\"\n",
        "name = \" maryam \"\n",
        "print(sentence + name)  # that is called concatenation"
      ],
      "metadata": {
        "colab": {
          "base_uri": "https://localhost:8080/"
        },
        "id": "wTLu1XODhPi9",
        "outputId": "5d1e9382-b09a-4955-8c26-1e23cc36956a"
      },
      "execution_count": null,
      "outputs": [
        {
          "output_type": "stream",
          "name": "stdout",
          "text": [
            "my name is maryam \n"
          ]
        }
      ]
    },
    {
      "cell_type": "code",
      "source": [
        "first_name = \"maryam\"\n",
        "last_name = \" amin \"\n",
        "print(first_name + last_name)  # concatenation"
      ],
      "metadata": {
        "colab": {
          "base_uri": "https://localhost:8080/"
        },
        "id": "agrJpYv3iPFN",
        "outputId": "a63bdf2c-71dc-41d4-f035-aae6f6b4f4d3"
      },
      "execution_count": null,
      "outputs": [
        {
          "output_type": "stream",
          "name": "stdout",
          "text": [
            "maryam amin \n"
          ]
        }
      ]
    },
    {
      "cell_type": "code",
      "source": [
        "word1 = \" i love\"\n",
        "word2 = \" coding \"\n",
        "print(word1 + word2)"
      ],
      "metadata": {
        "colab": {
          "base_uri": "https://localhost:8080/"
        },
        "id": "dyC_EjlAiuFB",
        "outputId": "f412b919-84c0-48a0-e569-02eb746d9501"
      },
      "execution_count": null,
      "outputs": [
        {
          "output_type": "stream",
          "name": "stdout",
          "text": [
            " i love coding \n"
          ]
        }
      ]
    },
    {
      "cell_type": "markdown",
      "source": [
        "3. Float."
      ],
      "metadata": {
        "id": "sy2d-Hf_Wt84"
      }
    },
    {
      "cell_type": "code",
      "source": [
        "number = 6.6\n",
        "name = \"maryam\"\n",
        "print(number)\n",
        "print(name)"
      ],
      "metadata": {
        "colab": {
          "base_uri": "https://localhost:8080/"
        },
        "id": "7t02OLtyWz40",
        "outputId": "fabe4242-22df-4b01-9bde-84250167732d"
      },
      "execution_count": null,
      "outputs": [
        {
          "output_type": "stream",
          "name": "stdout",
          "text": [
            "6.6\n",
            "maryam\n"
          ]
        }
      ]
    },
    {
      "cell_type": "code",
      "source": [
        "number = 77.8\n",
        "name = \"maryam\"\n",
        "print(type(number))    # identified the data type\n",
        "print(type(name))"
      ],
      "metadata": {
        "colab": {
          "base_uri": "https://localhost:8080/"
        },
        "id": "CAyt3wOKXH7O",
        "outputId": "6bf29c20-42eb-43b4-db98-e384192eb4db"
      },
      "execution_count": null,
      "outputs": [
        {
          "output_type": "stream",
          "name": "stdout",
          "text": [
            "<class 'float'>\n",
            "<class 'str'>\n"
          ]
        }
      ]
    },
    {
      "cell_type": "code",
      "source": [
        "word = \"coding\"\n",
        "number = 45\n",
        "fav_number = 6.7\n",
        "print(type(word))\n",
        "print(type(fav_number))\n",
        "print(type(number))"
      ],
      "metadata": {
        "colab": {
          "base_uri": "https://localhost:8080/"
        },
        "id": "q16TvY3UXfAC",
        "outputId": "61a379ea-579f-4cce-aefa-55e7fb318889"
      },
      "execution_count": null,
      "outputs": [
        {
          "output_type": "stream",
          "name": "stdout",
          "text": [
            "<class 'str'>\n",
            "<class 'float'>\n",
            "<class 'int'>\n"
          ]
        }
      ]
    },
    {
      "cell_type": "markdown",
      "source": [
        "# f-string"
      ],
      "metadata": {
        "id": "ei6L1tK5ZVM7"
      }
    },
    {
      "cell_type": "code",
      "source": [
        "name = \"maryam\"\n",
        "print(f\"my name is {name}\")  # combining text and a variable in the same line using f is called an f-string"
      ],
      "metadata": {
        "colab": {
          "base_uri": "https://localhost:8080/"
        },
        "id": "S3a7Uz4eZ5g7",
        "outputId": "c1a4c9b1-7f84-4882-9f91-de24348ae3a5"
      },
      "execution_count": null,
      "outputs": [
        {
          "output_type": "stream",
          "name": "stdout",
          "text": [
            "my name is maryam\n"
          ]
        }
      ]
    },
    {
      "cell_type": "code",
      "source": [
        "a = 6\n",
        "b = 4\n",
        "print(f\"the sum of {a+b}\")  # identified the f-string\n"
      ],
      "metadata": {
        "id": "kzSjgUsKaTv4",
        "colab": {
          "base_uri": "https://localhost:8080/"
        },
        "outputId": "a1052c77-439c-4d99-8482-ac484b3ce145"
      },
      "execution_count": null,
      "outputs": [
        {
          "output_type": "stream",
          "name": "stdout",
          "text": [
            "the sum of 10\n"
          ]
        }
      ]
    },
    {
      "cell_type": "code",
      "source": [
        "age = 20\n",
        "print(f\"i am {age} years old\")"
      ],
      "metadata": {
        "colab": {
          "base_uri": "https://localhost:8080/"
        },
        "id": "7cqD39EIPTNj",
        "outputId": "12a1efcb-63d7-4f30-d46a-a8cdf2dee20c"
      },
      "execution_count": 2,
      "outputs": [
        {
          "output_type": "stream",
          "name": "stdout",
          "text": [
            "i am 20 years old\n"
          ]
        }
      ]
    },
    {
      "cell_type": "code",
      "source": [
        "word1 = \"miss\"\n",
        "print(f\"hello {word1}\")"
      ],
      "metadata": {
        "colab": {
          "base_uri": "https://localhost:8080/"
        },
        "id": "wZyE-7lIQBPp",
        "outputId": "bc3adbba-bb8c-4f8d-ba3c-c82b1a193adb"
      },
      "execution_count": 4,
      "outputs": [
        {
          "output_type": "stream",
          "name": "stdout",
          "text": [
            "hello miss\n"
          ]
        }
      ]
    },
    {
      "cell_type": "code",
      "source": [
        "word2 = \"python on july 18,2025.\"\n",
        "print(f\"I started learning {word2}\")"
      ],
      "metadata": {
        "colab": {
          "base_uri": "https://localhost:8080/"
        },
        "id": "aFmt_FnbQ0lR",
        "outputId": "72dbe130-8a18-40b5-b3a9-0fc63831127d"
      },
      "execution_count": 6,
      "outputs": [
        {
          "output_type": "stream",
          "name": "stdout",
          "text": [
            "I started learning python on july 18,2025.\n"
          ]
        }
      ]
    },
    {
      "cell_type": "markdown",
      "source": [
        "Doc-string"
      ],
      "metadata": {
        "id": "-HUgJy7JV2jh"
      }
    },
    {
      "cell_type": "code",
      "source": [
        "paragraph = \"\"\"my name is maryam.\n",
        "i am learing python.\n",
        "i am 20 years old \"\"\"   # Docstring means: triple quotes \"\"\" \"\"\" ke ander explanation.\n",
        "print(paragraph)"
      ],
      "metadata": {
        "colab": {
          "base_uri": "https://localhost:8080/"
        },
        "id": "kDa7BF0YWK05",
        "outputId": "a848202e-9abe-4c9f-aa81-5f749bfb3cfa"
      },
      "execution_count": 10,
      "outputs": [
        {
          "output_type": "stream",
          "name": "stdout",
          "text": [
            "my name is maryam. \n",
            "i am learing python.\n",
            "i am 20 years old \n"
          ]
        }
      ]
    },
    {
      "cell_type": "code",
      "source": [
        "paragrapgh1 = \"\"\"Every new day is a fresh start.Whatever happend yesterday-learn from it,but dont stay stuck in it.\n",
        "Even your smallest effort creat a new path forward.sometimes the journey feels hard but remember your hardwork never goes to waste.\n",
        "You are learing growing and becoming the person you dream of being learn to belive in yourself.\"\"\"\n",
        "print(paragrapgh1)"
      ],
      "metadata": {
        "colab": {
          "base_uri": "https://localhost:8080/"
        },
        "id": "U9lhoB1gXowL",
        "outputId": "32d19bb2-a239-46a0-c6e7-a50d58e5ee41"
      },
      "execution_count": 12,
      "outputs": [
        {
          "output_type": "stream",
          "name": "stdout",
          "text": [
            "Every new day is a fresh start.Whatever happend yesterday-learn from it,but dont stay stuck in it.\n",
            "Even your smallest effort creat a new path forward.sometimes the journey feels hard but remember your hardwork never goes to waste.\n",
            "You are learing growing and becoming the person you dream of being learn to belive in yourself.\n"
          ]
        }
      ]
    },
    {
      "cell_type": "code",
      "source": [
        "paragraph = \"\"\" this function takes two number\n",
        " and returns their sum.\"\"\"  # this is docstring\n",
        "print(paragraph)"
      ],
      "metadata": {
        "colab": {
          "base_uri": "https://localhost:8080/"
        },
        "id": "DL_Gs4nAajwi",
        "outputId": "c070c058-d2d6-4505-fca4-29351cea9ed0"
      },
      "execution_count": 9,
      "outputs": [
        {
          "output_type": "stream",
          "name": "stdout",
          "text": [
            " this function takes two number \n",
            " and returns their sum.\n"
          ]
        }
      ]
    },
    {
      "cell_type": "markdown",
      "source": [
        "# Assignment"
      ],
      "metadata": {
        "id": "A_zTyNc2oaF8"
      }
    },
    {
      "cell_type": "code",
      "source": [
        "name = \"Amina\"\n",
        "print(f\"\"\"Hi {name},\n",
        "you got a free coupon code:\n",
        "Best regards,\n",
        "maryam\"\"\") # use fstring and docstring in this assignment"
      ],
      "metadata": {
        "colab": {
          "base_uri": "https://localhost:8080/"
        },
        "id": "VElVaDtRviuH",
        "outputId": "f5cdb3af-4223-4302-a930-189a9fee87c7"
      },
      "execution_count": 13,
      "outputs": [
        {
          "output_type": "stream",
          "name": "stdout",
          "text": [
            "Hi Amina,\n",
            "you got a free coupon code:\n",
            "Best regards,          \n",
            "maryam\n"
          ]
        }
      ]
    },
    {
      "cell_type": "markdown",
      "source": [
        "# Arithmetic operators"
      ],
      "metadata": {
        "id": "cbYQ6uP11Bsh"
      }
    },
    {
      "cell_type": "markdown",
      "source": [
        "1.+Addition"
      ],
      "metadata": {
        "id": "8KsLHwWN1Pef"
      }
    },
    {
      "cell_type": "code",
      "source": [],
      "metadata": {
        "id": "s3UE6PWe10A4"
      },
      "execution_count": null,
      "outputs": []
    }
  ]
}