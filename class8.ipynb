{
  "nbformat": 4,
  "nbformat_minor": 0,
  "metadata": {
    "colab": {
      "provenance": [],
      "authorship_tag": "ABX9TyNHFjQgIz829WbSrzsYqywc",
      "include_colab_link": true
    },
    "kernelspec": {
      "name": "python3",
      "display_name": "Python 3"
    },
    "language_info": {
      "name": "python"
    }
  },
  "cells": [
    {
      "cell_type": "markdown",
      "metadata": {
        "id": "view-in-github",
        "colab_type": "text"
      },
      "source": [
        "<a href=\"https://colab.research.google.com/github/maryamamin12/python_practice/blob/main/class8.ipynb\" target=\"_parent\"><img src=\"https://colab.research.google.com/assets/colab-badge.svg\" alt=\"Open In Colab\"/></a>"
      ]
    },
    {
      "cell_type": "markdown",
      "source": [
        "# Object oriented programme\n",
        "1. Class\n",
        "2. Object"
      ],
      "metadata": {
        "id": "U02Yt3GeXTJv"
      }
    },
    {
      "cell_type": "markdown",
      "source": [
        "# Class:\n",
        "class is a blueprint or template that defines the properities (attributes) and behaviors (methods) of objects. as a structer.\n",
        "#Object:\n",
        "An object ia an instaance of a class. when you creat a specific example from a class it is called an object.an oject has its own uniue data based on the class defination."
      ],
      "metadata": {
        "id": "bm2BY2qrXuXq"
      }
    },
    {
      "cell_type": "code",
      "execution_count": 20,
      "metadata": {
        "id": "CtGDvpS7dsDJ",
        "colab": {
          "base_uri": "https://localhost:8080/"
        },
        "outputId": "e39157aa-1ac6-41ea-f133-9a617fdffcc0"
      },
      "outputs": [
        {
          "output_type": "stream",
          "name": "stdout",
          "text": [
            "This is a constructer.\n",
            "maryam_House Adress: House No. 123\n"
          ]
        }
      ],
      "source": [
        "#this is a class\n",
        "class House:\n",
        "  adress: str = \"House No. 123\"\n",
        "  number_of_rooms: int = 2\n",
        "  number_of_doors: int = 3\n",
        "\n",
        "  def __init__(self): #this is called constructed function or ye object ko call karta hy\n",
        "    print(\"This is a constructer.\")\n",
        "\n",
        "#this is an object\n",
        "maryam_House = House()\n",
        "#rimsha_House = House()\n",
        "\n",
        "print(f\"maryam_House Adress: {maryam_House.adress}\")\n",
        "#print(f\"rimsha_House Adress: {maryam_House.adress}\")\n",
        "\n",
        "#print(maryam_House.adress)\n",
        "#print(maryam_House.number_of_rooms)\n",
        "#print(maryam_House.number_of_doors)\n",
        "\n"
      ]
    }
  ]
}