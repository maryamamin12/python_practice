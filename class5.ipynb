{
  "nbformat": 4,
  "nbformat_minor": 0,
  "metadata": {
    "colab": {
      "provenance": [],
      "authorship_tag": "ABX9TyOL22M+rKze01Ww4zY87YqC",
      "include_colab_link": true
    },
    "kernelspec": {
      "name": "python3",
      "display_name": "Python 3"
    },
    "language_info": {
      "name": "python"
    }
  },
  "cells": [
    {
      "cell_type": "markdown",
      "metadata": {
        "id": "view-in-github",
        "colab_type": "text"
      },
      "source": [
        "<a href=\"https://colab.research.google.com/github/maryamamin12/python_practice/blob/main/class5.ipynb\" target=\"_parent\"><img src=\"https://colab.research.google.com/assets/colab-badge.svg\" alt=\"Open In Colab\"/></a>"
      ]
    },
    {
      "cell_type": "markdown",
      "source": [
        "# why do we need dictionary in python"
      ],
      "metadata": {
        "id": "egUkM1SK6RW7"
      }
    },
    {
      "cell_type": "code",
      "execution_count": 4,
      "metadata": {
        "id": "NYW2n8rkzFh3",
        "colab": {
          "base_uri": "https://localhost:8080/"
        },
        "outputId": "361203f5-e50a-4a5e-cdfb-6255b3f290d6"
      },
      "outputs": [
        {
          "output_type": "stream",
          "name": "stdout",
          "text": [
            "Maryam\n",
            "19\n",
            "lahore\n"
          ]
        }
      ],
      "source": [
        "users = {\n",
        "    \"name\" : \"Maryam\",\n",
        "    \"age\" : 19,\n",
        "    \"city\" : \"lahore\",\n",
        "}\n",
        "\n",
        "print(users[\"name\"])\n",
        "print(users[\"age\"])\n",
        "print(users[\"city\"])"
      ]
    },
    {
      "cell_type": "markdown",
      "source": [
        "# Adding and updating python Dictionary"
      ],
      "metadata": {
        "id": "1KANzx336kdN"
      }
    },
    {
      "cell_type": "code",
      "source": [
        "#Example dictionary\n",
        "users = {\n",
        "    \"name\" : \"Maryam\",\n",
        "    \"age\" : 19,\n",
        "    \"city\" : \"lahore\"\n",
        "}\n",
        "#updating a key value in our dictionary\n",
        "\n",
        "users[\"name\"] = \"Maryam\"\n",
        "print(users[\"name\"])\n",
        "\n",
        "users[\"age\"] = 19\n",
        "print(users[\"age\"])\n",
        "\n",
        "users[\"city\"] = \"lahore\"\n",
        "print(users[\"city\"])\n",
        "\n",
        "#Adding a key value in our dictionary\n",
        "\n",
        "users[\"country\"] = \"pakistan\"\n",
        "print(users)"
      ],
      "metadata": {
        "colab": {
          "base_uri": "https://localhost:8080/"
        },
        "id": "OafZlZFE6-E8",
        "outputId": "8ee29aff-e2e0-4c4e-ef7e-5f0dcacd853e"
      },
      "execution_count": 14,
      "outputs": [
        {
          "output_type": "stream",
          "name": "stdout",
          "text": [
            "Maryam\n",
            "19\n",
            "lahore\n",
            "{'name': 'Maryam', 'age': 19, 'city': 'lahore', 'country': 'pakistan'}\n"
          ]
        }
      ]
    }
  ]
}