{
  "nbformat": 4,
  "nbformat_minor": 0,
  "metadata": {
    "colab": {
      "provenance": [],
      "authorship_tag": "ABX9TyMmeSOeNMIXmyzUCmBrcp2i",
      "include_colab_link": true
    },
    "kernelspec": {
      "name": "python3",
      "display_name": "Python 3"
    },
    "language_info": {
      "name": "python"
    }
  },
  "cells": [
    {
      "cell_type": "markdown",
      "metadata": {
        "id": "view-in-github",
        "colab_type": "text"
      },
      "source": [
        "<a href=\"https://colab.research.google.com/github/maryamamin12/python_practice/blob/main/class5.ipynb\" target=\"_parent\"><img src=\"https://colab.research.google.com/assets/colab-badge.svg\" alt=\"Open In Colab\"/></a>"
      ]
    },
    {
      "cell_type": "markdown",
      "source": [
        "# why do we need dictionary in python"
      ],
      "metadata": {
        "id": "egUkM1SK6RW7"
      }
    },
    {
      "cell_type": "code",
      "execution_count": null,
      "metadata": {
        "id": "NYW2n8rkzFh3",
        "colab": {
          "base_uri": "https://localhost:8080/"
        },
        "outputId": "361203f5-e50a-4a5e-cdfb-6255b3f290d6"
      },
      "outputs": [
        {
          "output_type": "stream",
          "name": "stdout",
          "text": [
            "Maryam\n",
            "19\n",
            "lahore\n"
          ]
        }
      ],
      "source": [
        "users = {\n",
        "#     key       value\n",
        "    \"name\" : \"Maryam\",\n",
        "    \"age\" : 19,\n",
        "    \"city\" : \"lahore\",\n",
        "}\n",
        "\n",
        "print(users[\"name\"])\n",
        "print(users[\"age\"])\n",
        "print(users[\"city\"])"
      ]
    },
    {
      "cell_type": "markdown",
      "source": [
        "# Adding and updating python Dictionary"
      ],
      "metadata": {
        "id": "1KANzx336kdN"
      }
    },
    {
      "cell_type": "code",
      "source": [
        "#Example dictionary\n",
        "users = {\n",
        "    \"name\" : \"Maryam\",\n",
        "    \"age\" : 19,\n",
        "    \"city\" : \"lahore\"\n",
        "}\n",
        "#updating a key value in our dictionary\n",
        "\n",
        "users[\"name\"] = \"Maryam\"\n",
        "print(users[\"name\"])\n",
        "\n",
        "users[\"age\"] = 19\n",
        "print(users[\"age\"])\n",
        "\n",
        "users[\"city\"] = \"lahore\"\n",
        "print(users[\"city\"])\n",
        "\n",
        "#Adding a key value in our dictionary\n",
        "\n",
        "users[\"country\"] = \"pakistan\"\n",
        "print(users)"
      ],
      "metadata": {
        "colab": {
          "base_uri": "https://localhost:8080/"
        },
        "id": "OafZlZFE6-E8",
        "outputId": "8ee29aff-e2e0-4c4e-ef7e-5f0dcacd853e"
      },
      "execution_count": null,
      "outputs": [
        {
          "output_type": "stream",
          "name": "stdout",
          "text": [
            "Maryam\n",
            "19\n",
            "lahore\n",
            "{'name': 'Maryam', 'age': 19, 'city': 'lahore', 'country': 'pakistan'}\n"
          ]
        }
      ]
    },
    {
      "cell_type": "code",
      "source": [
        "#Dictionary example\n",
        "\n",
        "user1 : dict = {\n",
        "    \"username\" : \"Maryam\",\n",
        "    \"subject\" : \"computer\",\n",
        "    \"roll_number\" : \"PIAIC134\",\n",
        "}\n",
        "\n",
        "print(user1[\"subject\"])\n"
      ],
      "metadata": {
        "id": "E5AGDehd7V8O",
        "colab": {
          "base_uri": "https://localhost:8080/"
        },
        "outputId": "14945ff2-f9d9-4b8c-a477-600add1a3230"
      },
      "execution_count": null,
      "outputs": [
        {
          "output_type": "stream",
          "name": "stdout",
          "text": [
            "computer\n"
          ]
        }
      ]
    },
    {
      "cell_type": "markdown",
      "source": [
        "# Why we need Loops?"
      ],
      "metadata": {
        "id": "MlAumCg1Dixl"
      }
    },
    {
      "cell_type": "code",
      "source": [
        "#how to creat loops in python\n",
        "#for variable_name (range)\n",
        "#block of code\n",
        "\n",
        "for i in range(1 , 6):\n",
        "  print(i)\n",
        "\n",
        "\n",
        "students = [\"maryam\", \"alina\", \"ayesha\", \"amina\"]\n",
        "\n",
        "for students in students:\n",
        "  print(students)"
      ],
      "metadata": {
        "colab": {
          "base_uri": "https://localhost:8080/"
        },
        "id": "ikVbwC88Dyrt",
        "outputId": "73dc61ff-469f-46f8-c2fd-05829f3a314e"
      },
      "execution_count": null,
      "outputs": [
        {
          "output_type": "stream",
          "name": "stdout",
          "text": [
            "1\n",
            "2\n",
            "3\n",
            "4\n",
            "5\n",
            "maryam\n",
            "alina\n",
            "ayesha\n",
            "amina\n"
          ]
        }
      ]
    },
    {
      "cell_type": "code",
      "source": [
        "for a in range(3 ,9):\n",
        "  print(a)"
      ],
      "metadata": {
        "colab": {
          "base_uri": "https://localhost:8080/"
        },
        "id": "QiqI-iwlHUrd",
        "outputId": "f4f31b9d-51b2-4d26-a0d7-0525f2c85718"
      },
      "execution_count": null,
      "outputs": [
        {
          "output_type": "stream",
          "name": "stdout",
          "text": [
            "3\n",
            "4\n",
            "5\n",
            "6\n",
            "7\n",
            "8\n"
          ]
        }
      ]
    },
    {
      "cell_type": "code",
      "source": [
        "#Guessing Game\n",
        "correct_number = 8\n",
        "guess = 0\n",
        "\n",
        "while guess != correct_number:\n",
        "  guess = int(input(\"Guess the number: \"))\n",
        "  print(\"wrong, Try again please\" if guess != correct_number else \"your guesses is right\")\n"
      ],
      "metadata": {
        "id": "nZfcEavtKjZo",
        "colab": {
          "base_uri": "https://localhost:8080/"
        },
        "outputId": "cf104ad9-2c69-4882-de45-2b45a24626ca"
      },
      "execution_count": 3,
      "outputs": [
        {
          "output_type": "stream",
          "name": "stdout",
          "text": [
            "Guess the number: 2\n",
            "wrong, Try again please\n",
            "Guess the number: 6\n",
            "wrong, Try again please\n",
            "Guess the number: 8\n",
            "your guesses is right\n"
          ]
        }
      ]
    },
    {
      "cell_type": "code",
      "source": [
        "# for loop implement\n",
        "for a in range(1 , 11):\n",
        "  print(\"2 *\", a, \"=\", 2*a )\n",
        ""
      ],
      "metadata": {
        "colab": {
          "base_uri": "https://localhost:8080/"
        },
        "id": "ft0fxGYC2N3G",
        "outputId": "99f9a251-c6a7-40c0-b0bb-0db3972eeb80"
      },
      "execution_count": 15,
      "outputs": [
        {
          "output_type": "stream",
          "name": "stdout",
          "text": [
            "2 * 1 = 2\n",
            "2 * 2 = 4\n",
            "2 * 3 = 6\n",
            "2 * 4 = 8\n",
            "2 * 5 = 10\n",
            "2 * 6 = 12\n",
            "2 * 7 = 14\n",
            "2 * 8 = 16\n",
            "2 * 9 = 18\n",
            "2 * 10 = 20\n"
          ]
        }
      ]
    }
  ]
}