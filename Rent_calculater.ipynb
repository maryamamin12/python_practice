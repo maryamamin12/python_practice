{
  "nbformat": 4,
  "nbformat_minor": 0,
  "metadata": {
    "colab": {
      "provenance": [],
      "authorship_tag": "ABX9TyMSdoHMUHIIIUZYnr/e2Hl0",
      "include_colab_link": true
    },
    "kernelspec": {
      "name": "python3",
      "display_name": "Python 3"
    },
    "language_info": {
      "name": "python"
    }
  },
  "cells": [
    {
      "cell_type": "markdown",
      "metadata": {
        "id": "view-in-github",
        "colab_type": "text"
      },
      "source": [
        "<a href=\"https://colab.research.google.com/github/maryamamin12/python_practice/blob/main/Rent_calculater.ipynb\" target=\"_parent\"><img src=\"https://colab.research.google.com/assets/colab-badge.svg\" alt=\"Open In Colab\"/></a>"
      ]
    },
    {
      "cell_type": "code",
      "execution_count": 4,
      "metadata": {
        "colab": {
          "base_uri": "https://localhost:8080/"
        },
        "id": "vQpUkyp4nXAV",
        "outputId": "ac8ae1a1-6753-4d2d-acc1-ae6a1b7e7dd6"
      },
      "outputs": [
        {
          "output_type": "stream",
          "name": "stdout",
          "text": [
            "Enter your hostel flat rent: 5000\n",
            "Enter the amount of food ordered: 1000\n",
            "Enter the total electricity unit: 30\n",
            "Enter the charge per unit: 10\n",
            "Enter the person living in the roon /flat: 3\n",
            "Each person will pay =  2100\n"
          ]
        }
      ],
      "source": [
        "# Inputs we need from the user\n",
        "# Total rent\n",
        "# Total food ordered for snacking\n",
        "# Electricity unit spend\n",
        "# Charge per unit\n",
        "# Person living in room// flat\n",
        "\n",
        "# Output\n",
        "# Total amount you've to pay is\n",
        "\n",
        "\n",
        "rent = int(input(\"Enter your hostel flat rent: \"))\n",
        "food = int(input(\"Enter the amount of food ordered: \"))\n",
        "electricity_spend = int(input(\"Enter the total electricity unit: \"))\n",
        "charge_per_unit = int(input(\"Enter the charge per unit: \"))\n",
        "persons = int(input(\"Enter the person living in the roon /flat: \"))\n",
        "\n",
        "\n",
        "total_bill = electricity_spend * charge_per_unit\n",
        "\n",
        "output = (food + rent + total_bill) // persons\n",
        "\n",
        "print(\"Each person will pay = \", output )\n",
        "\n",
        "\n"
      ]
    }
  ]
}