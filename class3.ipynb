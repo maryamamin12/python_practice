{
  "nbformat": 4,
  "nbformat_minor": 0,
  "metadata": {
    "colab": {
      "provenance": [],
      "authorship_tag": "ABX9TyOlPKPXwxAA5x5M80wcKuHB",
      "include_colab_link": true
    },
    "kernelspec": {
      "name": "python3",
      "display_name": "Python 3"
    },
    "language_info": {
      "name": "python"
    }
  },
  "cells": [
    {
      "cell_type": "markdown",
      "metadata": {
        "id": "view-in-github",
        "colab_type": "text"
      },
      "source": [
        "<a href=\"https://colab.research.google.com/github/maryamamin12/python_practice/blob/main/class3.ipynb\" target=\"_parent\"><img src=\"https://colab.research.google.com/assets/colab-badge.svg\" alt=\"Open In Colab\"/></a>"
      ]
    },
    {
      "cell_type": "markdown",
      "source": [
        "# Why Lists Are Important?"
      ],
      "metadata": {
        "id": "UJZPU6df8Azh"
      }
    },
    {
      "cell_type": "code",
      "source": [
        "marks = [3 , 6 , 9]\n",
        "\n",
        "print(marks)\n",
        "print(type(marks))\n",
        "print(marks[0])\n",
        "print(marks[1])\n",
        "print(marks[2])"
      ],
      "metadata": {
        "colab": {
          "base_uri": "https://localhost:8080/"
        },
        "id": "cLJ29RxZ8W8g",
        "outputId": "5a2bb757-0ce1-4a20-f6ef-f9746ae0c4ab"
      },
      "execution_count": null,
      "outputs": [
        {
          "output_type": "stream",
          "name": "stdout",
          "text": [
            "[3, 6, 9]\n",
            "<class 'list'>\n",
            "3\n",
            "6\n",
            "9\n"
          ]
        }
      ]
    },
    {
      "cell_type": "code",
      "source": [
        "#           [0]       [1]       [2]\n",
        "fruits = [\"apple\", \"orange\", \"banana\"]\n",
        "print(fruits)\n",
        "print(type(fruits))\n",
        "print(fruits[0])\n",
        "print(fruits[2])\n",
        "print(fruits[1])"
      ],
      "metadata": {
        "colab": {
          "base_uri": "https://localhost:8080/"
        },
        "id": "8RXVCYPx_fG7",
        "outputId": "a519607f-69ac-434a-b553-5c920eada5b9"
      },
      "execution_count": null,
      "outputs": [
        {
          "output_type": "stream",
          "name": "stdout",
          "text": [
            "['apple', 'orange', 'banana']\n",
            "<class 'list'>\n",
            "apple\n",
            "banana\n",
            "orange\n"
          ]
        }
      ]
    },
    {
      "cell_type": "code",
      "source": [
        "# Shopping list\n",
        "\n",
        "item_1 : str = \"eggs\"\n",
        "item_2 : str = \"bread\"\n",
        "item_3 : str = \"juice\"\n",
        "item_4 : str = \"butter\"\n",
        "item_5 : str = \"milk\"\n",
        "\n",
        "shopping_items : list[str] = [\"eggs\", \"bread\",\"juice\",\"butter\",\"milk\"]\n",
        "print(shopping_items)\n",
        "\n",
        "# Lst Example 2\n",
        "\n",
        "tasks : list[str] = [\"teach a class\", \"finish project\", \"dinner\", \"sleep\"]\n",
        "print(tasks)\n"
      ],
      "metadata": {
        "colab": {
          "base_uri": "https://localhost:8080/"
        },
        "id": "ghX6nWBKD6Nm",
        "outputId": "4f48e3be-7696-424d-db7a-b2f80244f7d4"
      },
      "execution_count": null,
      "outputs": [
        {
          "output_type": "stream",
          "name": "stdout",
          "text": [
            "['eggs', 'bread', 'juice', 'butter', 'milk']\n",
            "['teach a class', 'finish project', 'dinner', 'sleep']\n"
          ]
        }
      ]
    },
    {
      "cell_type": "markdown",
      "source": [
        "# List Indexes"
      ],
      "metadata": {
        "id": "_VKhNHNifdnr"
      }
    },
    {
      "cell_type": "code",
      "source": [
        "marks : list[int] = [ 4, 7, 9 ]\n",
        "#                    [0, 1, 2]\n",
        "\n",
        "print(marks[0]) # The first item has index 0\n",
        "print(marks[1])\n",
        "print(marks[2])"
      ],
      "metadata": {
        "colab": {
          "base_uri": "https://localhost:8080/"
        },
        "id": "k7_CHcH-fmnv",
        "outputId": "4a11b4f4-3443-4215-faa8-78255ca03b88"
      },
      "execution_count": null,
      "outputs": [
        {
          "output_type": "stream",
          "name": "stdout",
          "text": [
            "4\n",
            "7\n",
            "9\n"
          ]
        }
      ]
    },
    {
      "cell_type": "code",
      "source": [
        "shopping_items : list[str] = [\"clothes\", \"shoes\", \"bags\", \"hair band\"]\n",
        "#                             [  0,         1,       2,         3]\n",
        "\n",
        "print(shopping_items[0])\n",
        "print(shopping_items[3])"
      ],
      "metadata": {
        "colab": {
          "base_uri": "https://localhost:8080/"
        },
        "id": "nyba7BOZmBY0",
        "outputId": "192da51d-fa5d-4995-a5b5-ca42834c40d6"
      },
      "execution_count": null,
      "outputs": [
        {
          "output_type": "stream",
          "name": "stdout",
          "text": [
            "clothes\n",
            "hair band\n"
          ]
        }
      ]
    },
    {
      "cell_type": "markdown",
      "source": [
        "# List Length"
      ],
      "metadata": {
        "id": "JMYP6fIlYQ4l"
      }
    },
    {
      "cell_type": "code",
      "source": [
        "shopping_items : list[str] = [\"cake\", \"bread\", \"eggs\", \"juice\", \"cookies\", \"roll\"]\n",
        "\n",
        "# Find length of the list\n",
        "print(len(shopping_items))"
      ],
      "metadata": {
        "colab": {
          "base_uri": "https://localhost:8080/"
        },
        "id": "ssW5hCbxYPtU",
        "outputId": "95962c28-6b11-4998-b3a1-4c1c9293900a"
      },
      "execution_count": 1,
      "outputs": [
        {
          "output_type": "stream",
          "name": "stdout",
          "text": [
            "6\n"
          ]
        }
      ]
    },
    {
      "cell_type": "markdown",
      "source": [
        "# List Slicing"
      ],
      "metadata": {
        "id": "jtdwh1l5bqol"
      }
    },
    {
      "cell_type": "code",
      "source": [
        "fruits : list[str] = [\"apple\", \"banana\", \"mango\", \"orange\", \"grapes\"]\n",
        "\n",
        "# slicing the orange from list\n",
        "print(fruits[3])\n",
        "print(fruits[0:4])"
      ],
      "metadata": {
        "colab": {
          "base_uri": "https://localhost:8080/"
        },
        "id": "OEzVFsqrbylW",
        "outputId": "de5f49c5-ca46-496f-8010-e1969f560aff"
      },
      "execution_count": 5,
      "outputs": [
        {
          "output_type": "stream",
          "name": "stdout",
          "text": [
            "orange\n",
            "['apple', 'banana', 'mango', 'orange']\n"
          ]
        }
      ]
    },
    {
      "cell_type": "markdown",
      "source": [
        "# Checking Membership"
      ],
      "metadata": {
        "id": "PmZw8081fHU1"
      }
    },
    {
      "cell_type": "code",
      "source": [
        "fruits : list[str] = [\"apple\", \"orange\", \"banana\", \"mango\", \"grapes\"]\n",
        "\n",
        "# check karin 'mango' list m hy k nai\n",
        "\n",
        "print(\"mango\" in fruits)  # True\n",
        "print(\"stawbery\" in fruits)"
      ],
      "metadata": {
        "colab": {
          "base_uri": "https://localhost:8080/"
        },
        "id": "uJf7CMx-gETJ",
        "outputId": "3284db4e-621f-4918-c9b6-67dee8c932f7"
      },
      "execution_count": 7,
      "outputs": [
        {
          "output_type": "stream",
          "name": "stdout",
          "text": [
            "True\n",
            "False\n"
          ]
        }
      ]
    },
    {
      "cell_type": "markdown",
      "source": [
        "## Adding or removing items from the list"
      ],
      "metadata": {
        "id": "vDA-XgQWjHOD"
      }
    },
    {
      "cell_type": "code",
      "source": [
        "fruits : list[str] = [\"apple\", \"mango\", \"orange\", \"banana\", \"grapes\"]\n",
        "print(fruits)\n",
        "\n",
        "# Append items cherries\n",
        "fruits.append(\"cherries\")\n",
        "print(fruits)\n",
        "# Append item coconuts\n",
        "fruits.append(\"fruits\")\n",
        "print(fruits)"
      ],
      "metadata": {
        "colab": {
          "base_uri": "https://localhost:8080/"
        },
        "id": "heWnzjarjS3D",
        "outputId": "bdf1d2d3-ce63-41b2-a32c-82ebf613170a"
      },
      "execution_count": 6,
      "outputs": [
        {
          "output_type": "stream",
          "name": "stdout",
          "text": [
            "['apple', 'mango', 'orange', 'banana', 'grapes']\n",
            "['apple', 'mango', 'orange', 'banana', 'grapes', 'cherries']\n",
            "['apple', 'mango', 'orange', 'banana', 'grapes', 'cherries', 'fruits']\n"
          ]
        }
      ]
    },
    {
      "cell_type": "code",
      "source": [
        "fruits : list[str] = [\"apple\", \"mango\", \"orange\", \"banana\", \"grapes\"]\n",
        "print(fruits)\n",
        "\n",
        "# Remove item in list\n",
        "fruits.remove(\"apple\")\n",
        "print(fruits)\n"
      ],
      "metadata": {
        "colab": {
          "base_uri": "https://localhost:8080/"
        },
        "id": "GISnUEkiXh_Y",
        "outputId": "2ce4c5b1-5b31-42ac-a241-e7302c4ac65b"
      },
      "execution_count": 8,
      "outputs": [
        {
          "output_type": "stream",
          "name": "stdout",
          "text": [
            "['apple', 'mango', 'orange', 'banana', 'grapes']\n",
            "['mango', 'orange', 'banana', 'grapes']\n"
          ]
        }
      ]
    }
  ]
}