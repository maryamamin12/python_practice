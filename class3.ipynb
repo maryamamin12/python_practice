{
  "nbformat": 4,
  "nbformat_minor": 0,
  "metadata": {
    "colab": {
      "provenance": [],
      "authorship_tag": "ABX9TyMSzk1O3YV80Mdzf8Eipll9",
      "include_colab_link": true
    },
    "kernelspec": {
      "name": "python3",
      "display_name": "Python 3"
    },
    "language_info": {
      "name": "python"
    }
  },
  "cells": [
    {
      "cell_type": "markdown",
      "metadata": {
        "id": "view-in-github",
        "colab_type": "text"
      },
      "source": [
        "<a href=\"https://colab.research.google.com/github/maryamamin12/python_practice/blob/main/class3.ipynb\" target=\"_parent\"><img src=\"https://colab.research.google.com/assets/colab-badge.svg\" alt=\"Open In Colab\"/></a>"
      ]
    },
    {
      "cell_type": "markdown",
      "source": [
        "# Why Lists Are Important?"
      ],
      "metadata": {
        "id": "UJZPU6df8Azh"
      }
    },
    {
      "cell_type": "code",
      "source": [
        "marks = [3 , 6 , 9]\n",
        "\n",
        "print(marks)\n",
        "print(type(marks))\n",
        "print(marks[0])\n",
        "print(marks[1])\n",
        "print(marks[2])"
      ],
      "metadata": {
        "colab": {
          "base_uri": "https://localhost:8080/"
        },
        "id": "cLJ29RxZ8W8g",
        "outputId": "5a2bb757-0ce1-4a20-f6ef-f9746ae0c4ab"
      },
      "execution_count": 6,
      "outputs": [
        {
          "output_type": "stream",
          "name": "stdout",
          "text": [
            "[3, 6, 9]\n",
            "<class 'list'>\n",
            "3\n",
            "6\n",
            "9\n"
          ]
        }
      ]
    },
    {
      "cell_type": "code",
      "source": [
        "#           [0]       [1]       [2]\n",
        "fruits = [\"apple\", \"orange\", \"banana\"]\n",
        "print(fruits)\n",
        "print(type(fruits))\n",
        "print(fruits[0])\n",
        "print(fruits[2])\n",
        "print(fruits[1])"
      ],
      "metadata": {
        "colab": {
          "base_uri": "https://localhost:8080/"
        },
        "id": "8RXVCYPx_fG7",
        "outputId": "a519607f-69ac-434a-b553-5c920eada5b9"
      },
      "execution_count": 12,
      "outputs": [
        {
          "output_type": "stream",
          "name": "stdout",
          "text": [
            "['apple', 'orange', 'banana']\n",
            "<class 'list'>\n",
            "apple\n",
            "banana\n",
            "orange\n"
          ]
        }
      ]
    },
    {
      "cell_type": "code",
      "source": [
        "# Shopping list\n",
        "\n",
        "item_1 : str = \"eggs\"\n",
        "item_2 : str = \"bread\"\n",
        "item_3 : str = \"juice\"\n",
        "item_4 : str = \"butter\"\n",
        "item_5 : str = \"milk\"\n",
        "\n",
        "shopping_items : list[str] = [\"eggs\", \"bread\",\"juice\",\"butter\",\"milk\"]\n",
        "print(shopping_items)\n",
        "\n",
        "# Lst Example 2\n",
        "\n",
        "tasks : list[str] = [\"teach a class\", \"finish project\", \"dinner\", \"sleep\"]\n",
        "print(tasks)\n"
      ],
      "metadata": {
        "colab": {
          "base_uri": "https://localhost:8080/"
        },
        "id": "ghX6nWBKD6Nm",
        "outputId": "4f48e3be-7696-424d-db7a-b2f80244f7d4"
      },
      "execution_count": 16,
      "outputs": [
        {
          "output_type": "stream",
          "name": "stdout",
          "text": [
            "['eggs', 'bread', 'juice', 'butter', 'milk']\n",
            "['teach a class', 'finish project', 'dinner', 'sleep']\n"
          ]
        }
      ]
    },
    {
      "cell_type": "markdown",
      "source": [
        "# List Indexes"
      ],
      "metadata": {
        "id": "_VKhNHNifdnr"
      }
    },
    {
      "cell_type": "code",
      "source": [
        "marks : list[int] = [ 4, 7, 9 ]\n",
        "#                    [0, 1, 2]\n",
        "\n",
        "print(marks[0]) # The first item has index 0\n",
        "print(marks[1])\n",
        "print(marks[2])"
      ],
      "metadata": {
        "colab": {
          "base_uri": "https://localhost:8080/"
        },
        "id": "k7_CHcH-fmnv",
        "outputId": "4a11b4f4-3443-4215-faa8-78255ca03b88"
      },
      "execution_count": 23,
      "outputs": [
        {
          "output_type": "stream",
          "name": "stdout",
          "text": [
            "4\n",
            "7\n",
            "9\n"
          ]
        }
      ]
    },
    {
      "cell_type": "code",
      "source": [
        "shopping_items : list[str] = [\"clothes\", \"shoes\", \"bags\", \"hair band\"]\n",
        "#                             [  0,         1,       2,         3]\n",
        "\n",
        "print(shopping_items[0])\n",
        "print(shopping_items[3])"
      ],
      "metadata": {
        "colab": {
          "base_uri": "https://localhost:8080/"
        },
        "id": "nyba7BOZmBY0",
        "outputId": "192da51d-fa5d-4995-a5b5-ca42834c40d6"
      },
      "execution_count": 25,
      "outputs": [
        {
          "output_type": "stream",
          "name": "stdout",
          "text": [
            "clothes\n",
            "hair band\n"
          ]
        }
      ]
    }
  ]
}