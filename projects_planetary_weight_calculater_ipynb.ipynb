{
  "nbformat": 4,
  "nbformat_minor": 0,
  "metadata": {
    "colab": {
      "provenance": [],
      "authorship_tag": "ABX9TyMNVPmHjvvl5WpGsrX0dwOP",
      "include_colab_link": true
    },
    "kernelspec": {
      "name": "python3",
      "display_name": "Python 3"
    },
    "language_info": {
      "name": "python"
    }
  },
  "cells": [
    {
      "cell_type": "markdown",
      "metadata": {
        "id": "view-in-github",
        "colab_type": "text"
      },
      "source": [
        "<a href=\"https://colab.research.google.com/github/maryamamin12/python_practice/blob/main/projects_planetary_weight_calculater_ipynb.ipynb\" target=\"_parent\"><img src=\"https://colab.research.google.com/assets/colab-badge.svg\" alt=\"Open In Colab\"/></a>"
      ]
    },
    {
      "cell_type": "markdown",
      "source": [
        "project# 1"
      ],
      "metadata": {
        "id": "wuNCWVYzUw8t"
      }
    },
    {
      "cell_type": "code",
      "execution_count": null,
      "metadata": {
        "id": "VMhg0RanOa3s",
        "colab": {
          "base_uri": "https://localhost:8080/"
        },
        "outputId": "c6bbb604-b4ea-45b5-e788-614a08152f96"
      },
      "outputs": [
        {
          "output_type": "stream",
          "name": "stdout",
          "text": [
            "55 63 97 19 26 92 60 21 13 94 "
          ]
        }
      ],
      "source": [
        "import random\n",
        "\n",
        "for i in range(10):\n",
        "  print(random.randint(1, 100), end =\" \")"
      ]
    },
    {
      "cell_type": "markdown",
      "source": [
        "project# 2"
      ],
      "metadata": {
        "id": "HpQkewWzJpCZ"
      }
    },
    {
      "cell_type": "code",
      "source": [
        "def mars_weight():\n",
        "  user_input = float(input(\"Input your Earth weight: \"))\n",
        "  mars_weight: float = user_input * 0.378\n",
        "  rounded_weight: float = round(mars_weight, 2)\n",
        "  print(f\"your mars weight is {rounded_weight}kg.\")\n",
        "\n",
        "mars_weight()"
      ],
      "metadata": {
        "colab": {
          "base_uri": "https://localhost:8080/"
        },
        "id": "Ll_K6I-MGgn5",
        "outputId": "79bda21c-2e88-47b1-df7d-6ed3697f7e9b"
      },
      "execution_count": null,
      "outputs": [
        {
          "output_type": "stream",
          "name": "stdout",
          "text": [
            "Input your Earth weight: 3.1415926\n",
            "your mars weight is 1.19kg.\n"
          ]
        }
      ]
    },
    {
      "cell_type": "code",
      "source": [
        "# your all planets weight\n",
        "\n",
        "planetary_weight_constants = {\n",
        "     \"Mercury\" :  37.68,\n",
        "     \"Venus\" :  88.9,\n",
        "     \"Mars\" : 37.8,\n",
        "     \"Jupitar\" : 236.8,\n",
        "     \"Saturn\" : 108.1,\n",
        "     \"Uranus\" : 81.5,\n",
        "     \"Neptune\" : 114.0,\n",
        "}\n",
        "\n",
        "def planetary_weight():\n",
        "  earth_weight = float(input(\"Enter your earth weight please: \"))\n",
        "  planet_of_choice = str(input(\"Enter the name of the planet you are going to visit: \"))\n",
        "  if planet_of_choice in planetary_weight_constants:\n",
        "    planetary_wight = earth_weight * planetary_weight_constants[planet_of_choice] /100\n",
        "    rounded_weight: float = round(planetary_wight, 1)\n",
        "    print(f\"your weight on planet {planet_of_choice} is {planetary_wight}.\")\n",
        "  else:\n",
        "    print(\"we can only calculate solar system values.\")\n",
        "\n",
        "\n",
        "\n",
        "\n",
        "\n",
        "\n",
        "planetary_weight()"
      ],
      "metadata": {
        "colab": {
          "base_uri": "https://localhost:8080/"
        },
        "id": "gWzcIoxgMEWU",
        "outputId": "6d5346f8-baac-4d1c-e663-4425409dce04"
      },
      "execution_count": null,
      "outputs": [
        {
          "output_type": "stream",
          "name": "stdout",
          "text": [
            "Enter your earth weight please: 42\n",
            "Enter the name of the planet you are going to visit: Mars\n",
            "your weight on planet Mars is 15.876.\n"
          ]
        }
      ]
    }
  ]
}